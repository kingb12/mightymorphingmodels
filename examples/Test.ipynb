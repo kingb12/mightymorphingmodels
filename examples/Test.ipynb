{
 "cells": [
  {
   "cell_type": "code",
   "execution_count": 1,
   "metadata": {},
   "outputs": [
    {
     "name": "stdout",
     "output_type": "stream",
     "text": [
      "cobrakbase 0.2.2\n"
     ]
    }
   ],
   "source": [
    "import logging\n",
    "import cobrakbase\n",
    "import sys\n",
    "sys.path.append('../lib')\n",
    "\n",
    "import mightymorphingmodels\n",
    "from mightymorphingmodels.GrowthConditions import CobraCondition\n",
    "from mightymorphingmodels.morph import Morph\n",
    "from mightymorphingmodels.objects import *\n",
    "\n",
    "logger = logging.getLogger(__name__)"
   ]
  },
  {
   "cell_type": "code",
   "execution_count": 2,
   "metadata": {},
   "outputs": [],
   "source": [
    "kbase = cobrakbase.KBaseAPI('<TOKEN>')"
   ]
  },
  {
   "cell_type": "code",
   "execution_count": 3,
   "metadata": {},
   "outputs": [],
   "source": [
    "ws = \"bking:narrative_1571376470358\""
   ]
  },
  {
   "cell_type": "code",
   "execution_count": 4,
   "metadata": {},
   "outputs": [],
   "source": [
    "media_id = \"2016_01_19_h2co2only_media\"\n",
    "genome_id = \"Methanocaldococcus_jannaschii_DSM_2661\"\n",
    "fbamodel_id = \"MaripaludisModelRevisedCleanIds\"\n",
    "protcomp_id = \"maripaludis_to_jannaschii_9_17_19\"\n",
    "rxn_probs_id = \"Methanocaldococcus_jannaschii_DSM_2661.rxnprobs\"\n",
    "#to skip steps\n",
    "trans_model_id = \"translated_MaripaludisModelRevisedCleanIds\"\n",
    "recon_model_id = \"recon_Methanocaldococcus_jannaschii_DSM_2661\"\n",
    "\n",
    "super_model_id    = \"super_model\"\n",
    "super_modelspc_id = \"super_modelspc\"\n",
    "\n",
    "output_model_id = \"py3test\""
   ]
  },
  {
   "cell_type": "code",
   "execution_count": 5,
   "metadata": {},
   "outputs": [],
   "source": [
    "genome_data = kbase.get_object(genome_id, ws)\n",
    "media_data = kbase.get_object(media_id, ws)\n",
    "fbamodel_data = kbase.get_object(fbamodel_id, ws)\n",
    "protcomp_data = kbase.get_object(protcomp_id, ws)\n",
    "rxn_probs_data = kbase.get_object(rxn_probs_id, ws)\n",
    "\n",
    "trans_model_data = kbase.get_object(trans_model_id, ws)\n",
    "recon_model_data = kbase.get_object(recon_model_id, ws)"
   ]
  },
  {
   "cell_type": "code",
   "execution_count": 6,
   "metadata": {},
   "outputs": [],
   "source": [
    "protcomp = ProteomeComparison(protcomp_id, ws, data=protcomp_data, persistent=False)\n",
    "probanno = ReactionProbabilities(rxn_probs_id, ws, data=rxn_probs_data, persistent=False)\n",
    "media = Media(media_id, ws, data=media_data, persistent=False)\n",
    "genome = Genome(genome_id, ws, data=genome_data, persistent=False)\n",
    "fbamodel = FBAModel(fbamodel_id, ws, data=fbamodel_data, persistent=False)\n",
    "\n",
    "trans_model = FBAModel(trans_model_id, ws, data=trans_model_data, persistent=False)\n",
    "recon_model = FBAModel(recon_model_id, ws, data=recon_model_data, persistent=False)"
   ]
  },
  {
   "cell_type": "code",
   "execution_count": 7,
   "metadata": {},
   "outputs": [],
   "source": [
    "#translated_model = kbase.get_object('translated_MaripaludisModelRevisedCleanIds', ws)\n",
    "#recon_model = kbase.get_object('recon_Methanosphaera_stadtmanae_DSM_3091', ws)\n",
    "#super_modelspc = kbase.get_object('super_modelspc', ws)"
   ]
  },
  {
   "cell_type": "code",
   "execution_count": 8,
   "metadata": {},
   "outputs": [],
   "source": [
    "morph = Morph(service=None,\n",
    "              src_model=fbamodel,\n",
    "              media=media,\n",
    "              probanno=probanno,\n",
    "              protcomp=protcomp,\n",
    "              genome=genome,\n",
    "              ws_id=ws)"
   ]
  },
  {
   "cell_type": "code",
   "execution_count": 9,
   "metadata": {},
   "outputs": [],
   "source": [
    "#morph.translate_features()\n",
    "#morph.reconstruct_genome()\n",
    "\n",
    "morph.trans_model = trans_model\n",
    "morph.recon_model = recon_model"
   ]
  },
  {
   "cell_type": "code",
   "execution_count": 10,
   "metadata": {},
   "outputs": [],
   "source": [
    "morph.label_reactions()"
   ]
  },
  {
   "cell_type": "code",
   "execution_count": null,
   "metadata": {},
   "outputs": [],
   "source": []
  },
  {
   "cell_type": "code",
   "execution_count": 11,
   "metadata": {},
   "outputs": [],
   "source": [
    "super_model_data    = kbase.get_object(super_model_id, ws)\n",
    "super_modelspc_data = kbase.get_object(super_modelspc_id, ws)\n",
    "super_model    = FBAModel(super_model_data   , ws, data=super_model_data, persistent=False)\n",
    "super_modelspc = FBAModel(super_modelspc_data, ws, data=super_modelspc_data, persistent=False)"
   ]
  },
  {
   "cell_type": "code",
   "execution_count": 12,
   "metadata": {},
   "outputs": [],
   "source": [
    "duplicates = set()\n",
    "for mr in super_modelspc_data['modelreactions']:\n",
    "    if not mr['id'] in duplicates:\n",
    "        duplicates.add(mr['id'])\n",
    "    else:\n",
    "        mr['id'] += '_copy'\n",
    "        duplicates.add(mr['id'])"
   ]
  },
  {
   "cell_type": "code",
   "execution_count": 13,
   "metadata": {},
   "outputs": [],
   "source": [
    "morph.model = super_modelspc"
   ]
  },
  {
   "cell_type": "code",
   "execution_count": 15,
   "metadata": {},
   "outputs": [],
   "source": [
    "res = morph.process_reactions2()"
   ]
  },
  {
   "cell_type": "code",
   "execution_count": null,
   "metadata": {},
   "outputs": [],
   "source": []
  },
  {
   "cell_type": "code",
   "execution_count": null,
   "metadata": {},
   "outputs": [],
   "source": []
  },
  {
   "cell_type": "code",
   "execution_count": 17,
   "metadata": {},
   "outputs": [],
   "source": [
    "output_model_data = kbase.get_object(output_model_id, ws)\n",
    "output_model_expected = cobrakbase.core.KBaseFBAModel(output_model_data)"
   ]
  },
  {
   "cell_type": "code",
   "execution_count": 18,
   "metadata": {},
   "outputs": [],
   "source": [
    "output_model_actual = cobrakbase.core.KBaseFBAModel(new_model.get_object())"
   ]
  },
  {
   "cell_type": "code",
   "execution_count": 125,
   "metadata": {},
   "outputs": [
    {
     "data": {
      "text/plain": [
       "[[6,\n",
       "  'py3test_new',\n",
       "  'KBaseFBA.FBAModel-11.0',\n",
       "  '2019-10-21T19:51:14+0000',\n",
       "  1,\n",
       "  'filipeliu',\n",
       "  50034,\n",
       "  'filipeliu:narrative_1571685026282',\n",
       "  '54ce37e5f95dbc542a90af858b0597b7',\n",
       "  862467,\n",
       "  {'Number gapgens': '0',\n",
       "   'Type': 'SingleOrganism',\n",
       "   'Number gapfills': '0',\n",
       "   'Source ID': '2016_05_05_mmps',\n",
       "   'Number biomasses': '1',\n",
       "   'Number compartments': '2',\n",
       "   'Genome': '48521/4/1',\n",
       "   'Source': 'Imported',\n",
       "   'Number compounds': '767',\n",
       "   'Number reactions': '543',\n",
       "   'Name': 'Methanocaldococcus jannaschii DSM 2661'}]]"
      ]
     },
     "execution_count": 125,
     "metadata": {},
     "output_type": "execute_result"
    }
   ],
   "source": [
    "kbase.save_object(\"py3test_new\", \"filipeliu:narrative_1571685026282\", \"KBaseFBA.FBAModel\", new_model.get_object())"
   ]
  },
  {
   "cell_type": "code",
   "execution_count": 182,
   "metadata": {},
   "outputs": [
    {
     "name": "stderr",
     "output_type": "stream",
     "text": [
      "WARNING:cobrakbase.core.converters:duplicate reaction: rxn05209_c0\n",
      "WARNING:cobrakbase.core.converters:copy reaction: [rxn05209_c0] -> [rxn05209_c0_copy1]\n"
     ]
    },
    {
     "ename": "Infeasible",
     "evalue": "None (infeasible)",
     "output_type": "error",
     "traceback": [
      "\u001b[0;31m---------------------------------------------------------------------------\u001b[0m",
      "\u001b[0;31mInfeasible\u001b[0m                                Traceback (most recent call last)",
      "\u001b[0;32m/anaconda3/lib/python3.6/site-packages/IPython/core/formatters.py\u001b[0m in \u001b[0;36m__call__\u001b[0;34m(self, obj)\u001b[0m\n\u001b[1;32m    343\u001b[0m             \u001b[0mmethod\u001b[0m \u001b[0;34m=\u001b[0m \u001b[0mget_real_method\u001b[0m\u001b[0;34m(\u001b[0m\u001b[0mobj\u001b[0m\u001b[0;34m,\u001b[0m \u001b[0mself\u001b[0m\u001b[0;34m.\u001b[0m\u001b[0mprint_method\u001b[0m\u001b[0;34m)\u001b[0m\u001b[0;34m\u001b[0m\u001b[0m\n\u001b[1;32m    344\u001b[0m             \u001b[0;32mif\u001b[0m \u001b[0mmethod\u001b[0m \u001b[0;32mis\u001b[0m \u001b[0;32mnot\u001b[0m \u001b[0;32mNone\u001b[0m\u001b[0;34m:\u001b[0m\u001b[0;34m\u001b[0m\u001b[0m\n\u001b[0;32m--> 345\u001b[0;31m                 \u001b[0;32mreturn\u001b[0m \u001b[0mmethod\u001b[0m\u001b[0;34m(\u001b[0m\u001b[0;34m)\u001b[0m\u001b[0;34m\u001b[0m\u001b[0m\n\u001b[0m\u001b[1;32m    346\u001b[0m             \u001b[0;32mreturn\u001b[0m \u001b[0;32mNone\u001b[0m\u001b[0;34m\u001b[0m\u001b[0m\n\u001b[1;32m    347\u001b[0m         \u001b[0;32melse\u001b[0m\u001b[0;34m:\u001b[0m\u001b[0;34m\u001b[0m\u001b[0m\n",
      "\u001b[0;32m/anaconda3/lib/python3.6/site-packages/cobra/core/summary/summary.py\u001b[0m in \u001b[0;36m_repr_html_\u001b[0;34m(self)\u001b[0m\n\u001b[1;32m    209\u001b[0m \u001b[0;34m\u001b[0m\u001b[0m\n\u001b[1;32m    210\u001b[0m     \u001b[0;32mdef\u001b[0m \u001b[0m_repr_html_\u001b[0m\u001b[0;34m(\u001b[0m\u001b[0mself\u001b[0m\u001b[0;34m)\u001b[0m\u001b[0;34m:\u001b[0m\u001b[0;34m\u001b[0m\u001b[0m\n\u001b[0;32m--> 211\u001b[0;31m         \u001b[0;32mreturn\u001b[0m \u001b[0mself\u001b[0m\u001b[0;34m.\u001b[0m\u001b[0mto_frame\u001b[0m\u001b[0;34m(\u001b[0m\u001b[0;34m)\u001b[0m\u001b[0;34m.\u001b[0m\u001b[0m_repr_html_\u001b[0m\u001b[0;34m(\u001b[0m\u001b[0;34m)\u001b[0m\u001b[0;34m\u001b[0m\u001b[0m\n\u001b[0m",
      "\u001b[0;32m/anaconda3/lib/python3.6/site-packages/cobra/core/summary/model_summary.py\u001b[0m in \u001b[0;36mto_frame\u001b[0;34m(self)\u001b[0m\n\u001b[1;32m    169\u001b[0m \u001b[0;34m\u001b[0m\u001b[0m\n\u001b[1;32m    170\u001b[0m         \"\"\"\n\u001b[0;32m--> 171\u001b[0;31m         \u001b[0mflux_df\u001b[0m \u001b[0;34m=\u001b[0m \u001b[0mself\u001b[0m\u001b[0;34m.\u001b[0m\u001b[0m_generate\u001b[0m\u001b[0;34m(\u001b[0m\u001b[0;34m)\u001b[0m\u001b[0;34m\u001b[0m\u001b[0m\n\u001b[0m\u001b[1;32m    172\u001b[0m \u001b[0;34m\u001b[0m\u001b[0m\n\u001b[1;32m    173\u001b[0m         \u001b[0;31m# obtain separate DataFrames and join them instead of reorganizing the\u001b[0m\u001b[0;34m\u001b[0m\u001b[0;34m\u001b[0m\u001b[0m\n",
      "\u001b[0;32m/anaconda3/lib/python3.6/site-packages/cobra/core/summary/model_summary.py\u001b[0m in \u001b[0;36m_generate\u001b[0;34m(self)\u001b[0m\n\u001b[1;32m     75\u001b[0m \u001b[0;34m\u001b[0m\u001b[0m\n\u001b[1;32m     76\u001b[0m         \u001b[0;32mif\u001b[0m \u001b[0mself\u001b[0m\u001b[0;34m.\u001b[0m\u001b[0msolution\u001b[0m \u001b[0;32mis\u001b[0m \u001b[0;32mNone\u001b[0m\u001b[0;34m:\u001b[0m\u001b[0;34m\u001b[0m\u001b[0m\n\u001b[0;32m---> 77\u001b[0;31m             \u001b[0mself\u001b[0m\u001b[0;34m.\u001b[0m\u001b[0mmodel\u001b[0m\u001b[0;34m.\u001b[0m\u001b[0mslim_optimize\u001b[0m\u001b[0;34m(\u001b[0m\u001b[0merror_value\u001b[0m\u001b[0;34m=\u001b[0m\u001b[0;32mNone\u001b[0m\u001b[0;34m)\u001b[0m\u001b[0;34m\u001b[0m\u001b[0m\n\u001b[0m\u001b[1;32m     78\u001b[0m             \u001b[0mself\u001b[0m\u001b[0;34m.\u001b[0m\u001b[0msolution\u001b[0m \u001b[0;34m=\u001b[0m \u001b[0mget_solution\u001b[0m\u001b[0;34m(\u001b[0m\u001b[0mself\u001b[0m\u001b[0;34m.\u001b[0m\u001b[0mmodel\u001b[0m\u001b[0;34m,\u001b[0m \u001b[0mreactions\u001b[0m\u001b[0;34m=\u001b[0m\u001b[0msummary_rxns\u001b[0m\u001b[0;34m)\u001b[0m\u001b[0;34m\u001b[0m\u001b[0m\n\u001b[1;32m     79\u001b[0m \u001b[0;34m\u001b[0m\u001b[0m\n",
      "\u001b[0;32m/anaconda3/lib/python3.6/site-packages/cobra/core/model.py\u001b[0m in \u001b[0;36mslim_optimize\u001b[0;34m(self, error_value, message)\u001b[0m\n\u001b[1;32m   1053\u001b[0m             \u001b[0;32mreturn\u001b[0m \u001b[0merror_value\u001b[0m\u001b[0;34m\u001b[0m\u001b[0m\n\u001b[1;32m   1054\u001b[0m         \u001b[0;32melse\u001b[0m\u001b[0;34m:\u001b[0m\u001b[0;34m\u001b[0m\u001b[0m\n\u001b[0;32m-> 1055\u001b[0;31m             \u001b[0massert_optimal\u001b[0m\u001b[0;34m(\u001b[0m\u001b[0mself\u001b[0m\u001b[0;34m,\u001b[0m \u001b[0mmessage\u001b[0m\u001b[0;34m)\u001b[0m\u001b[0;34m\u001b[0m\u001b[0m\n\u001b[0m\u001b[1;32m   1056\u001b[0m \u001b[0;34m\u001b[0m\u001b[0m\n\u001b[1;32m   1057\u001b[0m     \u001b[0;32mdef\u001b[0m \u001b[0moptimize\u001b[0m\u001b[0;34m(\u001b[0m\u001b[0mself\u001b[0m\u001b[0;34m,\u001b[0m \u001b[0mobjective_sense\u001b[0m\u001b[0;34m=\u001b[0m\u001b[0;32mNone\u001b[0m\u001b[0;34m,\u001b[0m \u001b[0mraise_error\u001b[0m\u001b[0;34m=\u001b[0m\u001b[0;32mFalse\u001b[0m\u001b[0;34m)\u001b[0m\u001b[0;34m:\u001b[0m\u001b[0;34m\u001b[0m\u001b[0m\n",
      "\u001b[0;32m/anaconda3/lib/python3.6/site-packages/cobra/util/solver.py\u001b[0m in \u001b[0;36massert_optimal\u001b[0;34m(model, message)\u001b[0m\n\u001b[1;32m    439\u001b[0m         exception_cls = OPTLANG_TO_EXCEPTIONS_DICT.get(\n\u001b[1;32m    440\u001b[0m             status, OptimizationError)\n\u001b[0;32m--> 441\u001b[0;31m         \u001b[0;32mraise\u001b[0m \u001b[0mexception_cls\u001b[0m\u001b[0;34m(\u001b[0m\u001b[0;34m\"{} ({})\"\u001b[0m\u001b[0;34m.\u001b[0m\u001b[0mformat\u001b[0m\u001b[0;34m(\u001b[0m\u001b[0mmessage\u001b[0m\u001b[0;34m,\u001b[0m \u001b[0mstatus\u001b[0m\u001b[0;34m)\u001b[0m\u001b[0;34m)\u001b[0m\u001b[0;34m\u001b[0m\u001b[0m\n\u001b[0m\u001b[1;32m    442\u001b[0m \u001b[0;34m\u001b[0m\u001b[0m\n\u001b[1;32m    443\u001b[0m \u001b[0;34m\u001b[0m\u001b[0m\n",
      "\u001b[0;31mInfeasible\u001b[0m: None (infeasible)"
     ]
    },
    {
     "data": {
      "text/plain": [
       "<cobra.core.summary.model_summary.ModelSummary at 0x7f90de85d438>"
      ]
     },
     "execution_count": 182,
     "metadata": {},
     "output_type": "execute_result"
    }
   ],
   "source": [
    "#fbamodel = cobrakbase.core.KBaseFBAModel(model.get_object(False))\n",
    "from cobrakbase.core.converters import KBaseFBAModelToCobraBuilder\n",
    "m = cobrakbase.core.KBaseBiochemMedia(morph.media.get_object())\n",
    "cobra_model = KBaseFBAModelToCobraBuilder(output_model_expected).with_media(m).build()\n",
    "cobra_model.summary()"
   ]
  },
  {
   "cell_type": "code",
   "execution_count": 189,
   "metadata": {},
   "outputs": [
    {
     "ename": "AttributeError",
     "evalue": "'Model' object has no attribute 'write'",
     "output_type": "error",
     "traceback": [
      "\u001b[0;31m---------------------------------------------------------------------------\u001b[0m",
      "\u001b[0;31mAttributeError\u001b[0m                            Traceback (most recent call last)",
      "\u001b[0;32m<ipython-input-189-196947b33b0e>\u001b[0m in \u001b[0;36m<module>\u001b[0;34m\u001b[0m\n\u001b[0;32m----> 1\u001b[0;31m \u001b[0mcobra_model\u001b[0m\u001b[0;34m.\u001b[0m\u001b[0msolver\u001b[0m\u001b[0;34m.\u001b[0m\u001b[0mwrite\u001b[0m\u001b[0;34m(\u001b[0m\u001b[0;34m\"/Users/fliu/Downloads/bad.lp\"\u001b[0m\u001b[0;34m)\u001b[0m\u001b[0;34m\u001b[0m\u001b[0m\n\u001b[0m",
      "\u001b[0;31mAttributeError\u001b[0m: 'Model' object has no attribute 'write'"
     ]
    }
   ],
   "source": [
    "cobra_model.solver.write(\"/Users/fliu/Downloads/bad.lp\")"
   ]
  },
  {
   "cell_type": "code",
   "execution_count": 192,
   "metadata": {},
   "outputs": [],
   "source": [
    "lp = cobra_model.solver.to_lp()\n",
    "with open('/Users/fliu/Downloads/bad.lp', 'w') as f:\n",
    "    f.write(lp)"
   ]
  },
  {
   "cell_type": "code",
   "execution_count": 183,
   "metadata": {},
   "outputs": [
    {
     "ename": "AttributeError",
     "evalue": "module 'cobra' has no attribute 'solvers'",
     "output_type": "error",
     "traceback": [
      "\u001b[0;31m---------------------------------------------------------------------------\u001b[0m",
      "\u001b[0;31mAttributeError\u001b[0m                            Traceback (most recent call last)",
      "\u001b[0;32m<ipython-input-183-43379c5fa98b>\u001b[0m in \u001b[0;36m<module>\u001b[0;34m\u001b[0m\n\u001b[0;32m----> 1\u001b[0;31m \u001b[0mcplex\u001b[0m \u001b[0;34m=\u001b[0m \u001b[0mcobra\u001b[0m\u001b[0;34m.\u001b[0m\u001b[0msolvers\u001b[0m\u001b[0;34m.\u001b[0m\u001b[0mcplex_solver\u001b[0m\u001b[0;34m.\u001b[0m\u001b[0mcreate_problem\u001b[0m\u001b[0;34m(\u001b[0m\u001b[0mcobra_model\u001b[0m\u001b[0;34m)\u001b[0m\u001b[0;34m\u001b[0m\u001b[0m\n\u001b[0m\u001b[1;32m      2\u001b[0m \u001b[0mcplex\u001b[0m\u001b[0;34m.\u001b[0m\u001b[0mwrite\u001b[0m\u001b[0;34m(\u001b[0m\u001b[0;34m\"/Users/fliu/Downloads/bad.lp\"\u001b[0m\u001b[0;34m)\u001b[0m\u001b[0;34m\u001b[0m\u001b[0m\n",
      "\u001b[0;31mAttributeError\u001b[0m: module 'cobra' has no attribute 'solvers'"
     ]
    }
   ],
   "source": [
    "cplex = cobra.solvers.cplex_solver.create_problem(cobra_model)\n",
    "cplex.write(\"/Users/fliu/Downloads/bad.lp\")"
   ]
  },
  {
   "cell_type": "code",
   "execution_count": 39,
   "metadata": {},
   "outputs": [
    {
     "data": {
      "text/plain": [
       "543"
      ]
     },
     "execution_count": 39,
     "metadata": {},
     "output_type": "execute_result"
    }
   ],
   "source": [
    "len(output_model_actual.reactions)"
   ]
  },
  {
   "cell_type": "code",
   "execution_count": 38,
   "metadata": {},
   "outputs": [
    {
     "data": {
      "text/plain": [
       "542"
      ]
     },
     "execution_count": 38,
     "metadata": {},
     "output_type": "execute_result"
    }
   ],
   "source": [
    "len(output_model_expected.reactions)"
   ]
  },
  {
   "cell_type": "code",
   "execution_count": 29,
   "metadata": {},
   "outputs": [],
   "source": [
    "rxn_ids_actual   = set(map(lambda x : x.data['id'], output_model_actual.reactions))\n",
    "rxn_ids_expected = set(map(lambda x : x.data['id'], output_model_expected.reactions))"
   ]
  },
  {
   "cell_type": "code",
   "execution_count": 31,
   "metadata": {},
   "outputs": [],
   "source": [
    "both = (rxn_ids_actual & rxn_ids_expected)"
   ]
  },
  {
   "cell_type": "code",
   "execution_count": 32,
   "metadata": {},
   "outputs": [
    {
     "data": {
      "text/plain": [
       "541"
      ]
     },
     "execution_count": 32,
     "metadata": {},
     "output_type": "execute_result"
    }
   ],
   "source": [
    "len(both)"
   ]
  },
  {
   "cell_type": "code",
   "execution_count": 40,
   "metadata": {},
   "outputs": [
    {
     "data": {
      "text/plain": [
       "{'rxn10471_c0'}"
      ]
     },
     "execution_count": 40,
     "metadata": {},
     "output_type": "execute_result"
    }
   ],
   "source": [
    "rxn_ids_actual - both"
   ]
  },
  {
   "cell_type": "code",
   "execution_count": 42,
   "metadata": {},
   "outputs": [
    {
     "name": "stderr",
     "output_type": "stream",
     "text": [
      "WARNING:cobrakbase.core.converters:duplicate reaction: rxn05209_c0\n",
      "WARNING:cobrakbase.core.converters:copy reaction: [rxn05209_c0] -> [rxn05209_c0_copy1]\n",
      "cobra/util/solver.py:416 \u001b[1;31mUserWarning\u001b[0m: solver status is 'infeasible'\n"
     ]
    },
    {
     "data": {
      "text/plain": [
       "False"
      ]
     },
     "execution_count": 42,
     "metadata": {},
     "output_type": "execute_result"
    }
   ],
   "source": [
    "growth_condition.evaluate({'morph': morph, 'model': FBAModel(\"\", \"\", data=output_model_data, persistent=False)})"
   ]
  },
  {
   "cell_type": "code",
   "execution_count": 161,
   "metadata": {},
   "outputs": [
    {
     "data": {
      "text/plain": [
       "<module 'cobra.flux_analysis' from '/anaconda3/lib/python3.6/site-packages/cobra/flux_analysis/__init__.py'>"
      ]
     },
     "execution_count": 161,
     "metadata": {},
     "output_type": "execute_result"
    }
   ],
   "source": [
    "import cobra\n",
    "cobra.so"
   ]
  },
  {
   "cell_type": "code",
   "execution_count": 134,
   "metadata": {},
   "outputs": [
    {
     "name": "stderr",
     "output_type": "stream",
     "text": [
      "WARNING:cobrakbase.core.converters:duplicate reaction: rxn05209_c0\n",
      "WARNING:cobrakbase.core.converters:copy reaction: [rxn05209_c0] -> [rxn05209_c0_copy1]\n"
     ]
    },
    {
     "data": {
      "text/plain": [
       "True"
      ]
     },
     "execution_count": 134,
     "metadata": {},
     "output_type": "execute_result"
    }
   ],
   "source": [
    "\n",
    "growth_condition.evaluate({'morph': morph, 'model': FBAModel(\"\", \"\", data=new_model.get_object(), persistent=False)})"
   ]
  },
  {
   "cell_type": "code",
   "execution_count": 166,
   "metadata": {},
   "outputs": [
    {
     "data": {
      "text/plain": [
       "3.91244"
      ]
     },
     "execution_count": 166,
     "metadata": {},
     "output_type": "execute_result"
    }
   ],
   "source": [
    "fba_data = kbase.get_object('fba', 'filipeliu:narrative_1571685026282')\n",
    "fba_data['objectiveValue']"
   ]
  },
  {
   "cell_type": "code",
   "execution_count": 127,
   "metadata": {},
   "outputs": [],
   "source": [
    "solution = cobrakbase.core.KBaseFBA(fba_data)"
   ]
  },
  {
   "cell_type": "code",
   "execution_count": 63,
   "metadata": {},
   "outputs": [],
   "source": [
    "total_sum = {}\n",
    "for r in output_model_expected.reactions:\n",
    "    flux = get_reaction_variable_by_id(solution, r.id)['value']\n",
    "    #print(r, get_reaction_variable_by_id(solution, r.id)['value'])\n",
    "    for m in r.metabolites:\n",
    "        if not m.id in total_sum:\n",
    "            total_sum[m.id] = 0\n",
    "        total_sum[m.id] += r.metabolites[m] * flux"
   ]
  },
  {
   "cell_type": "code",
   "execution_count": 82,
   "metadata": {},
   "outputs": [
    {
     "data": {
      "text/plain": [
       "dict_keys(['__VERSION__', 'biomasses', 'delete_biomasses', 'deleted_reactions', 'gapfilledcandidates', 'gapfillings', 'gapgens', 'genome_ref', 'id', 'model_edits', 'modelcompartments', 'modelcompounds', 'modelreactions', 'name', 'quantopts', 'source', 'source_id', 'template_ref', 'template_refs', 'type'])"
      ]
     },
     "execution_count": 82,
     "metadata": {},
     "output_type": "execute_result"
    }
   ],
   "source": [
    "output_model_data.keys()"
   ]
  },
  {
   "cell_type": "code",
   "execution_count": 85,
   "metadata": {},
   "outputs": [
    {
     "data": {
      "text/plain": [
       "'bio1'"
      ]
     },
     "execution_count": 85,
     "metadata": {},
     "output_type": "execute_result"
    }
   ],
   "source": [
    "biomass['id']"
   ]
  },
  {
   "cell_type": "code",
   "execution_count": 157,
   "metadata": {},
   "outputs": [],
   "source": [
    "total_sum = {}\n",
    "for mr in output_model_data['modelreactions']:\n",
    "    #print(mr)\n",
    "    s_id = mr['id'].replace('-', '__DASH__')\n",
    "    flux = growth_condition.fba.fluxes[s_id]\n",
    "    #print(r, get_reaction_variable_by_id(solution, r.id)['value'])\n",
    "    for o in mr['modelReactionReagents']:\n",
    "        #print(o)\n",
    "        if not o['modelcompound_ref'] in total_sum:\n",
    "            total_sum[o['modelcompound_ref']] = 0\n",
    "        total_sum[o['modelcompound_ref']] += o['coefficient'] * flux\n",
    "        \n",
    "for biomass in output_model_data['biomasses']:\n",
    "    flux = growth_condition.fba.fluxes[biomass['id'] + '_biomass']\n",
    "    #print(biomass)\n",
    "    for biomasscompound in biomass['biomasscompounds']:\n",
    "        coefficient = biomasscompound['coefficient']\n",
    "        cpd = biomasscompound['modelcompound_ref']\n",
    "        #print(coefficient, cpd, cpd in total_sum)\n",
    "        if not cpd in total_sum:\n",
    "            total_sum[cpd] = 0\n",
    "        total_sum[cpd] += coefficient * flux"
   ]
  },
  {
   "cell_type": "code",
   "execution_count": null,
   "metadata": {},
   "outputs": [],
   "source": []
  },
  {
   "cell_type": "code",
   "execution_count": null,
   "metadata": {},
   "outputs": [],
   "source": []
  },
  {
   "cell_type": "code",
   "execution_count": 156,
   "metadata": {},
   "outputs": [],
   "source": []
  },
  {
   "cell_type": "code",
   "execution_count": 167,
   "metadata": {},
   "outputs": [],
   "source": [
    "total_sum = {}\n",
    "for mr in output_model_data['modelreactions']:\n",
    "    #print(mr)\n",
    "    flux = get_reaction_variable_by_id(solution, mr['id'])['value']\n",
    "    #print(r, get_reaction_variable_by_id(solution, r.id)['value'])\n",
    "    for o in mr['modelReactionReagents']:\n",
    "        #print(o)\n",
    "        if not o['modelcompound_ref'] in total_sum:\n",
    "            total_sum[o['modelcompound_ref']] = 0\n",
    "        total_sum[o['modelcompound_ref']] += o['coefficient'] * flux\n",
    "        \n",
    "for b in solution.data['FBABiomassVariables']:\n",
    "    biomass_ref = b['biomass_ref'].split('/')[-1]\n",
    "    flux = b['value']\n",
    "    for biomass in output_model_data['biomasses']:\n",
    "        if biomass['id'] == biomass_ref:\n",
    "            #print(biomass)\n",
    "            for biomasscompound in biomass['biomasscompounds']:\n",
    "                coefficient = biomasscompound['coefficient']\n",
    "                cpd = biomasscompound['modelcompound_ref']\n",
    "                #print(coefficient, cpd, cpd in total_sum)\n",
    "                if not cpd in total_sum:\n",
    "                    total_sum[cpd] = 0\n",
    "                total_sum[cpd] += coefficient * flux"
   ]
  },
  {
   "cell_type": "code",
   "execution_count": 168,
   "metadata": {},
   "outputs": [
    {
     "name": "stdout",
     "output_type": "stream",
     "text": [
      "~/modelcompounds/id/cpd00254_e0 -0.0124868\n",
      "~/modelcompounds/id/cpd00205_e0 -0.011999999999943611\n",
      "~/modelcompounds/id/cpd00067_e0 730.4699999999999\n",
      "~/modelcompounds/id/cpd10515_e0 -0.0124868\n",
      "~/modelcompounds/id/cpd00971_e0 -661.696\n",
      "~/modelcompounds/id/cpd00149_e0 -0.0124868\n",
      "~/modelcompounds/id/cpd00305_e0 -0.0124868\n",
      "~/modelcompounds/id/cpd00073_e0 0.0249737\n",
      "~/modelcompounds/id/cpd10516_e0 -0.0124868\n",
      "~/modelcompounds/id/cpd00001_e0 180.707\n",
      "~/modelcompounds/id/cpd00011_e0 -103.271\n",
      "~/modelcompounds/id/cpd00063_e0 -0.0124868\n",
      "~/modelcompounds/id/cpd00239_e0 -0.515361\n",
      "~/modelcompounds/id/cpd11640_e0 -307.944\n",
      "~/modelcompounds/id/cpd00099_e0 -0.0124868\n",
      "~/modelcompounds/id/cpd00009_e0 2.38443\n",
      "~/modelcompounds/id/cpd00013_e0 -15.7452\n",
      "~~~~~~~~~~~~~~ internals >= 0.0001 ~~~~~~~~~~~~~~\n",
      "~/modelcompounds/id/cpd00067_c0 -661.6984610200001\n",
      "~/modelcompounds/id/cpd00001_c0 -0.0005220800001097814\n",
      "~/modelcompounds/id/cpd00009_c0 -0.00015812000003734283\n",
      "~/modelcompounds/id/cpd00047_c0 -0.0005132000000571679\n",
      "~/modelcompounds/id/cpd00008_c0 -0.00017911999998432293\n",
      "~/modelcompounds/id/cpd00002_c0 0.0001743200000419165\n",
      "~/modelcompounds/id/cpd00003_c0 -0.00021859999992557277\n",
      "~/modelcompounds/id/cpd00004_c0 0.00021859999992557277\n",
      "~/modelcompounds/id/cpd00169_c0 0.0003420000000460277\n",
      "~/modelcompounds/id/cpd00102_c0 -0.00033980000000610744\n",
      "~/modelcompounds/id/cpd00011_c0 0.0005325000000198088\n",
      "~/modelcompounds/id/cpd00205_c0 -0.00048682204005638836\n",
      "~/modelcompounds/id/cpd11640_c0 -0.0003609999999980573\n",
      "~/modelcompounds/id/cpd00649_c0 -0.0004999999999881766\n",
      "~/modelcompounds/id/cpd00792_c0 0.0004999999999881766\n",
      "~/modelcompounds/id/cpd00971_c0 661.696\n",
      "~/modelcompounds/id/cpd11621_c0 0.00020999999992454832\n",
      "~/modelcompounds/id/cpd11620_c0 -0.00020999999992454832\n",
      "~/modelcompounds/id/cpd02246_c0 0.00010000000000331966\n",
      "~/modelcompounds/id/cpd02935_c0 -0.00010000000000331966\n",
      "~/modelcompounds/id/cpd02817_c0 0.00010000000000331966\n",
      "~/modelcompounds/id/cpd01024_c0 50\n",
      "~/modelcompounds/id/cpd11416_c0 4.03256\n",
      "~~~~~~~~~~~~~~ internals  < 0.0001 ~~~~~~~~~~~~~~\n",
      "~/modelcompounds/id/cpd00051_c0 3.7480000000256197e-06\n",
      "~/modelcompounds/id/cpd00106_c0 -9.000000000014552e-05\n",
      "~/modelcompounds/id/cpd00060_c0 -1.6800000002259452e-07\n",
      "~/modelcompounds/id/cpd00035_c0 -3.4008000000529393e-06\n",
      "~/modelcompounds/id/cpd00006_c0 -8.390000004965259e-05\n",
      "~/modelcompounds/id/cpd00005_c0 8.390000004965259e-05\n",
      "~/modelcompounds/id/cpd00254_c0 -2.2040000000403404e-08\n",
      "~/modelcompounds/id/cpd00041_c0 -5.024800000974494e-06\n",
      "~/modelcompounds/id/cpd00039_c0 -3.92640000024258e-06\n",
      "~/modelcompounds/id/cpd00123_c0 -2.220446049250313e-16\n",
      "~/modelcompounds/id/cpd00054_c0 -2.1760000012971403e-07\n",
      "~/modelcompounds/id/cpd10515_c0 -2.2040000000403404e-08\n",
      "~/modelcompounds/id/cpd00061_c0 -1.0000000000509601e-05\n",
      "~/modelcompounds/id/cpd00012_c0 3.5016000001775183e-06\n",
      "~/modelcompounds/id/cpd00072_c0 3.0000000001972893e-06\n",
      "~/modelcompounds/id/cpd00264_c0 -2.2040000000403404e-08\n",
      "~/modelcompounds/id/cpd00118_c0 7.796000000247216e-08\n",
      "~/modelcompounds/id/cpd00023_c0 -7.899999999672058e-05\n",
      "~/modelcompounds/id/cpd00053_c0 3.420000000042833e-05\n",
      "~/modelcompounds/id/cpd00013_c0 -2.1900000001906506e-05\n",
      "~/modelcompounds/id/cpd00198_c0 -2.0000000000575113e-06\n",
      "~/modelcompounds/id/cpd00357_c0 4.616000000290388e-08\n",
      "~/modelcompounds/id/cpd00146_c0 -7.000000000090267e-06\n",
      "~/modelcompounds/id/cpd00024_c0 4.480000000028905e-05\n",
      "~/modelcompounds/id/cpd00290_c0 -1.000000000139778e-06\n",
      "~/modelcompounds/id/cpd00018_c0 4.799999999784144e-06\n",
      "~/modelcompounds/id/cpd00062_c0 5.100800000157335e-07\n",
      "~/modelcompounds/id/cpd00149_c0 -2.2040000000403404e-08\n",
      "~/modelcompounds/id/cpd00132_c0 -2.4800000053559756e-08\n",
      "~/modelcompounds/id/cpd00236_c0 -7.000000000090267e-06\n",
      "~/modelcompounds/id/cpd00171_c0 2.0000000000575113e-07\n",
      "~/modelcompounds/id/cpd00065_c0 1.0287999996361208e-07\n",
      "~/modelcompounds/id/cpd00356_c0 -4.964799999937486e-07\n",
      "~/modelcompounds/id/cpd00016_c0 -2.2040000000403404e-08\n",
      "~/modelcompounds/id/cpd00216_c0 5.000000000032756e-06\n",
      "~/modelcompounds/id/cpd00020_c0 2.500000000260627e-05\n",
      "~/modelcompounds/id/cpd00056_c0 -2.2040000000403404e-08\n",
      "~/modelcompounds/id/cpd00066_c0 -1.712000000653191e-07\n",
      "~/modelcompounds/id/cpd00103_c0 2.0000000002656781e-07\n",
      "~/modelcompounds/id/cpd02737_c0 -6.100000000230921e-05\n",
      "~/modelcompounds/id/cpd02679_c0 4.590000000090355e-05\n",
      "~/modelcompounds/id/cpd00036_c0 9.000000000014552e-05\n",
      "~/modelcompounds/id/cpd00069_c0 -3.407999999982536e-07\n",
      "~/modelcompounds/id/cpd00156_c0 1.3912000003113434e-06\n",
      "~/modelcompounds/id/cpd00346_c0 8.999999977277184e-06\n",
      "~/modelcompounds/id/cpd10516_c0 -2.2040000000403404e-08\n",
      "~/modelcompounds/id/cpd00063_c0 -2.2040000000403404e-08\n",
      "~/modelcompounds/id/cpd00895_c0 1.5099999998824387e-05\n",
      "~/modelcompounds/id/cpd00099_c0 -2.2040000000403404e-08\n"
     ]
    }
   ],
   "source": [
    "import math\n",
    "for m in total_sum:\n",
    "    net = total_sum[m]\n",
    "    if not net == 0:\n",
    "        if m.endswith('_e0'):\n",
    "            print(m, net)\n",
    "cut = 0.0001\n",
    "print('~~~~~~~~~~~~~~ internals >= ' + str(cut) + ' ~~~~~~~~~~~~~~')\n",
    "for m in total_sum:\n",
    "    net = total_sum[m]\n",
    "    if not net == 0:\n",
    "        if not m.endswith('_e0') and math.fabs(net) >= cut:\n",
    "            print(m, net)\n",
    "            \n",
    "print('~~~~~~~~~~~~~~ internals  < ' + str(cut) + ' ~~~~~~~~~~~~~~')\n",
    "for m in total_sum:\n",
    "    net = total_sum[m]\n",
    "    if not net == 0:\n",
    "        if not m.endswith('_e0') and math.fabs(net) < cut:\n",
    "            print(m, net)"
   ]
  },
  {
   "cell_type": "code",
   "execution_count": null,
   "metadata": {},
   "outputs": [],
   "source": []
  },
  {
   "cell_type": "code",
   "execution_count": 120,
   "metadata": {},
   "outputs": [
    {
     "name": "stdout",
     "output_type": "stream",
     "text": [
      "rxn05209_c0 1 ~/modelcompounds/id/cpd00971_e0 776.456\n",
      "rxn05209_c0 -1 ~/modelcompounds/id/cpd00971_c0 776.456\n",
      "Eha-Ehb_c0 -2 ~/modelcompounds/id/cpd00971_e0 995.357\n",
      "Eha-Ehb_c0 2 ~/modelcompounds/id/cpd00971_c0 995.357\n",
      "ATPS_c0 -4 ~/modelcompounds/id/cpd00971_e0 -303.564\n",
      "ATPS_c0 4 ~/modelcompounds/id/cpd00971_c0 -303.564\n",
      "rxn05209_c0 -1 ~/modelcompounds/id/cpd00971_e0 776.456\n",
      "rxn05209_c0 1 ~/modelcompounds/id/cpd00971_c0 776.456\n"
     ]
    }
   ],
   "source": [
    "for mr in output_model_data['modelreactions']:\n",
    "    flux = get_reaction_variable_by_id(solution, mr['id'])['value']\n",
    "    for o in mr['modelReactionReagents']:\n",
    "        if 'cpd00971' in o['modelcompound_ref']:\n",
    "            print(mr['id'], o['coefficient'], o['modelcompound_ref'], flux)"
   ]
  },
  {
   "cell_type": "code",
   "execution_count": 123,
   "metadata": {},
   "outputs": [
    {
     "data": {
      "text/plain": [
       "-0.0019999999997253326"
      ]
     },
     "execution_count": 123,
     "metadata": {},
     "output_type": "execute_result"
    }
   ],
   "source": [
    "#cpd00971_e0 776.456 1\n",
    "#cpd00971_e0 995.357 -2\n",
    "#cpd00971_e0 -303.564 -4\n",
    "#cpd00971_e0 776.456 -1\n",
    "776.456 * 1 + 995.357 * -2 + -303.564 * -4"
   ]
  },
  {
   "cell_type": "code",
   "execution_count": 52,
   "metadata": {},
   "outputs": [],
   "source": [
    "def get_reaction_variable_by_id(f, rxn_id):\n",
    "    for v in f.data['FBAReactionVariables']:\n",
    "        v_id = v['modelreaction_ref'].split('/')[-1]\n",
    "        if rxn_id == v_id:\n",
    "            return v\n",
    "    return None"
   ]
  },
  {
   "cell_type": "code",
   "execution_count": 169,
   "metadata": {},
   "outputs": [],
   "source": [
    "%run ../../../scripts/bios_utils.py"
   ]
  },
  {
   "cell_type": "code",
   "execution_count": 170,
   "metadata": {},
   "outputs": [],
   "source": [
    "fba_json = read_json('/Users/fliu/Downloads/fba_beta/9.json')"
   ]
  },
  {
   "cell_type": "code",
   "execution_count": 171,
   "metadata": {},
   "outputs": [
    {
     "data": {
      "text/plain": [
       "dict_keys(['FBABiomassVariables', 'FBACompoundBounds', 'FBACompoundVariables', 'FBAConstraints', 'FBADeletionResults', 'FBAMetaboliteProductionResults', 'FBAMinimalMediaResults', 'FBAMinimalReactionsResults', 'FBAPromResults', 'FBAReactionBounds', 'FBAReactionVariables', 'FBATintleResults', 'MFALog', 'PROMKappa', 'QuantitativeOptimizationSolutions', '__VERSION__', 'additionalCpd_refs', 'allReversible', 'biomassRemovals', 'biomassflux_objterms', 'calculateReactionKnockoutSensitivity', 'comboDeletions', 'compoundflux_objterms', 'decomposeReversibleDrainFlux', 'decomposeReversibleFlux', 'defaultMaxDrainFlux', 'defaultMaxFlux', 'defaultMinDrainFlux', 'drainfluxUseVariables', 'fbamodel_ref', 'findMinimalMedia', 'fluxMinimization', 'fluxUseVariables', 'fva', 'gapfillingSolutions', 'geneKO_refs', 'id', 'inputfiles', 'maximizeActiveReactions', 'maximizeObjective', 'media_list_refs', 'media_ref', 'minimizeErrorThermodynamicConstraints', 'minimize_reaction_costs', 'minimize_reactions', 'noErrorThermodynamicConstraints', 'numberOfSolutions', 'objectiveConstraintFraction', 'objectiveValue', 'other_objectives', 'outputfiles', 'parameters', 'quantitativeOptimization', 'reactionKO_refs', 'reactionflux_objterms', 'simpleThermoConstraints', 'thermodynamicConstraints', 'uptakeLimits'])"
      ]
     },
     "execution_count": 171,
     "metadata": {},
     "output_type": "execute_result"
    }
   ],
   "source": [
    "fba_json.keys()"
   ]
  },
  {
   "cell_type": "code",
   "execution_count": 176,
   "metadata": {},
   "outputs": [],
   "source": [
    "lp = '\\n'.join(fba_json['outputfiles']['LP_file'])"
   ]
  },
  {
   "cell_type": "code",
   "execution_count": 178,
   "metadata": {},
   "outputs": [],
   "source": [
    "with open('/Users/fliu/Downloads/lp.lp', 'w') as f:\n",
    "    f.write(lp)"
   ]
  },
  {
   "cell_type": "code",
   "execution_count": null,
   "metadata": {},
   "outputs": [],
   "source": []
  }
 ],
 "metadata": {
  "kernelspec": {
   "display_name": "Python 3",
   "language": "python",
   "name": "python3"
  },
  "language_info": {
   "codemirror_mode": {
    "name": "ipython",
    "version": 3
   },
   "file_extension": ".py",
   "mimetype": "text/x-python",
   "name": "python",
   "nbconvert_exporter": "python",
   "pygments_lexer": "ipython3",
   "version": "3.6.5"
  }
 },
 "nbformat": 4,
 "nbformat_minor": 2
}
