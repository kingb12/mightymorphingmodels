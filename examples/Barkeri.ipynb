{
 "cells": [
  {
   "cell_type": "code",
   "execution_count": 1,
   "metadata": {},
   "outputs": [
    {
     "name": "stdout",
     "output_type": "stream",
     "text": [
      "cobrakbase 0.2.2\n"
     ]
    }
   ],
   "source": [
    "import logging\n",
    "import cobrakbase\n",
    "\n",
    "logger = logging.getLogger(__name__)"
   ]
  },
  {
   "cell_type": "code",
   "execution_count": 2,
   "metadata": {},
   "outputs": [],
   "source": [
    "%run ../lib/mightymorphingmodels/morph.py\n",
    "%run ../lib/mightymorphingmodels/service.py"
   ]
  },
  {
   "cell_type": "code",
   "execution_count": 4,
   "metadata": {},
   "outputs": [],
   "source": [
    "kbase = cobrakbase.KBaseAPI('<TOKEN>')"
   ]
  },
  {
   "cell_type": "code",
   "execution_count": 5,
   "metadata": {},
   "outputs": [
    {
     "data": {
      "text/plain": [
       "'bking:narrative_1568786274121'"
      ]
     },
     "execution_count": 5,
     "metadata": {},
     "output_type": "execute_result"
    }
   ],
   "source": [
    "# Get a Workspace Service Client\n",
    "ws_id = '48520'\n",
    "ws_data = kbase.ws_client.get_workspace_info({'id': ws_id})\n",
    "ws = ws_data[1]\n",
    "ws"
   ]
  },
  {
   "cell_type": "code",
   "execution_count": null,
   "metadata": {},
   "outputs": [],
   "source": []
  },
  {
   "cell_type": "code",
   "execution_count": 3,
   "metadata": {},
   "outputs": [
    {
     "ename": "NameError",
     "evalue": "name 'kbase' is not defined",
     "output_type": "error",
     "traceback": [
      "\u001b[0;31m---------------------------------------------------------------------------\u001b[0m",
      "\u001b[0;31mNameError\u001b[0m                                 Traceback (most recent call last)",
      "\u001b[0;32m<ipython-input-3-a2d7605b497e>\u001b[0m in \u001b[0;36m<module>\u001b[0;34m\u001b[0m\n\u001b[0;32m----> 1\u001b[0;31m \u001b[0mmedia\u001b[0m \u001b[0;34m=\u001b[0m \u001b[0mkbase\u001b[0m\u001b[0;34m.\u001b[0m\u001b[0mget_object\u001b[0m\u001b[0;34m(\u001b[0m\u001b[0;34m'2016_01_19_h2co2only_media'\u001b[0m\u001b[0;34m,\u001b[0m \u001b[0mws\u001b[0m\u001b[0;34m)\u001b[0m\u001b[0;34m\u001b[0m\u001b[0m\n\u001b[0m\u001b[1;32m      2\u001b[0m \u001b[0mmedia\u001b[0m \u001b[0;34m=\u001b[0m \u001b[0mMedia\u001b[0m\u001b[0;34m(\u001b[0m\u001b[0;34m'2016_01_19_h2co2only_media'\u001b[0m\u001b[0;34m,\u001b[0m \u001b[0mws_id\u001b[0m\u001b[0;34m,\u001b[0m \u001b[0mdata\u001b[0m\u001b[0;34m=\u001b[0m\u001b[0mmedia\u001b[0m\u001b[0;34m)\u001b[0m\u001b[0;34m\u001b[0m\u001b[0m\n",
      "\u001b[0;31mNameError\u001b[0m: name 'kbase' is not defined"
     ]
    }
   ],
   "source": [
    "media = kbase.get_object('2016_01_19_h2co2only_media', ws)\n",
    "media = Media('2016_01_19_h2co2only_media', ws_id, data=media)"
   ]
  },
  {
   "cell_type": "code",
   "execution_count": 54,
   "metadata": {},
   "outputs": [
    {
     "ename": "NameError",
     "evalue": "name 'test_model' is not defined",
     "output_type": "error",
     "traceback": [
      "\u001b[0;31m---------------------------------------------------------------------------\u001b[0m",
      "\u001b[0;31mNameError\u001b[0m                                 Traceback (most recent call last)",
      "\u001b[0;32m<ipython-input-54-e744786cf369>\u001b[0m in \u001b[0;36m<module>\u001b[0;34m\u001b[0m\n\u001b[1;32m      1\u001b[0m \u001b[0mget_ipython\u001b[0m\u001b[0;34m(\u001b[0m\u001b[0;34m)\u001b[0m\u001b[0;34m.\u001b[0m\u001b[0mrun_line_magic\u001b[0m\u001b[0;34m(\u001b[0m\u001b[0;34m'run'\u001b[0m\u001b[0;34m,\u001b[0m \u001b[0;34m'../lib/mightymorphingmodels/GrowthConditions.py'\u001b[0m\u001b[0;34m)\u001b[0m\u001b[0;34m\u001b[0m\u001b[0m\n\u001b[1;32m      2\u001b[0m \u001b[0mgrowth_condition\u001b[0m \u001b[0;34m=\u001b[0m \u001b[0mCobraCondition\u001b[0m\u001b[0;34m(\u001b[0m\u001b[0;34m)\u001b[0m\u001b[0;34m\u001b[0m\u001b[0m\n\u001b[0;32m----> 3\u001b[0;31m \u001b[0mres\u001b[0m \u001b[0;34m=\u001b[0m \u001b[0mgrowth_condition\u001b[0m\u001b[0;34m.\u001b[0m\u001b[0mevaluate\u001b[0m\u001b[0;34m(\u001b[0m\u001b[0;34m{\u001b[0m\u001b[0;34m'morph'\u001b[0m\u001b[0;34m:\u001b[0m \u001b[0mmorph\u001b[0m\u001b[0;34m,\u001b[0m \u001b[0;34m'model'\u001b[0m\u001b[0;34m:\u001b[0m \u001b[0mtest_model\u001b[0m\u001b[0;34m}\u001b[0m\u001b[0;34m)\u001b[0m\u001b[0;34m\u001b[0m\u001b[0m\n\u001b[0m\u001b[1;32m      4\u001b[0m \u001b[0mres\u001b[0m\u001b[0;34m\u001b[0m\u001b[0m\n",
      "\u001b[0;31mNameError\u001b[0m: name 'test_model' is not defined"
     ]
    }
   ],
   "source": [
    "%run ../lib/mightymorphingmodels/GrowthConditions.py\n",
    "growth_condition = CobraCondition()\n",
    "res = growth_condition.evaluate({'morph': morph, 'model': test_model})\n",
    "res"
   ]
  },
  {
   "cell_type": "code",
   "execution_count": 87,
   "metadata": {},
   "outputs": [],
   "source": [
    "\n",
    "test_model = kbase.get_object('maripaludis_to_barkeri_morph_9_17_19', ws)\n",
    "test_model = FBAModel('maripaludis_to_barkeri_morph_9_17_19', ws_id, data=test_model)"
   ]
  },
  {
   "cell_type": "code",
   "execution_count": null,
   "metadata": {},
   "outputs": [],
   "source": []
  },
  {
   "cell_type": "code",
   "execution_count": 45,
   "metadata": {},
   "outputs": [],
   "source": [
    "m = cobrakbase.core.KBaseBiochemMedia(media.get_object(False))"
   ]
  },
  {
   "cell_type": "code",
   "execution_count": 71,
   "metadata": {},
   "outputs": [
    {
     "data": {
      "text/plain": [
       "0.0"
      ]
     },
     "execution_count": 71,
     "metadata": {},
     "output_type": "execute_result"
    }
   ],
   "source": [
    "solution.objective_value"
   ]
  },
  {
   "cell_type": "code",
   "execution_count": 6,
   "metadata": {},
   "outputs": [],
   "source": [
    "src_model = None\n",
    "translated_model = None\n",
    "recon_model = None\n",
    "genome = None\n",
    "protcomp = None\n",
    "probanno = None\n",
    "media = None\n",
    "super_modelspc = None\n",
    "service = Service(None, None, None)"
   ]
  },
  {
   "cell_type": "code",
   "execution_count": 7,
   "metadata": {},
   "outputs": [],
   "source": [
    "#genome = kbase.get_object('Methanocaldococcus_jannaschii_DSM_2661', ws_id)\n",
    "protcomp = kbase.get_object('maripaludis_to_barkeri_9_17_19', ws)\n",
    "probanno = kbase.get_object('auto15', ws)\n",
    "media = kbase.get_object('2016_01_19_h2co2only_media', ws)\n",
    "translated_model = kbase.get_object('translated_MaripaludisModelRevisedCleanIds', ws)\n",
    "recon_model = kbase.get_object('BarkeriReconstructionNew', ws)\n",
    "super_modelspc = kbase.get_object('super_modelspc', ws)"
   ]
  },
  {
   "cell_type": "code",
   "execution_count": 8,
   "metadata": {},
   "outputs": [],
   "source": [
    "translated_model = FBAModel('translated_MaripaludisModelRevised', ws, data=translated_model, persistent=False)\n",
    "recon_model = FBAModel('BarkeriReconstructionNew', ws_id, data=recon_model)\n",
    "#genome = Genome('Methanocaldococcus_jannaschii_DSM_2661', ws_id, data=genome)\n",
    "protcomp = ProteomeComparison('maripaludis_to_barkeri_9_17_19', ws_id, data=protcomp, persistent=False)\n",
    "probanno = ReactionProbabilities('auto15', ws_id, data=probanno, persistent=False)\n",
    "media = Media('2016_01_19_h2co2only_media', ws_id, data=media, persistent=False)\n"
   ]
  },
  {
   "cell_type": "code",
   "execution_count": 10,
   "metadata": {},
   "outputs": [],
   "source": [
    "%run ../lib/mightymorphingmodels/objects.py\n",
    "\n",
    "src_model_id = 'MaripaludisModelRevisedCleanIds'\n",
    "src_model = kbase.get_object(src_model_id, ws)\n",
    "src_model = FBAModel(src_model_id, ws, data=src_model, persistent=False)\n",
    "super_modelspc_id = 'super_modelspc'\n",
    "super_modelspc = kbase.get_object(super_modelspc_id, ws)\n",
    "super_modelspc = FBAModel(super_modelspc_id, ws_id, data=super_modelspc, persistent=False)\n"
   ]
  },
  {
   "cell_type": "code",
   "execution_count": 56,
   "metadata": {},
   "outputs": [
    {
     "name": "stderr",
     "output_type": "stream",
     "text": [
      "cobra/util/solver.py:416 \u001b[1;31mUserWarning\u001b[0m: solver status is 'infeasible'\n"
     ]
    },
    {
     "data": {
      "text/plain": [
       "False"
      ]
     },
     "execution_count": 56,
     "metadata": {},
     "output_type": "execute_result"
    }
   ],
   "source": [
    "#unstable infeasible solution\n",
    "new_model = clone_model(super_modelspc)\n",
    "rem = ['GLYPs_c0', 'rxn10434_c0', 'rxn10596_c0', 'rxn10472_c0', \n",
    "       'rxn06696_c0', 'rxn10611_c0', 'rxn10469_c0', 'rxn00298_c0', \n",
    "       'rxn11752_c0', 'rxn10468_c0', 'rxn10435_c0', 'TSost_c0', \n",
    "       'MANgt_c0', 'rxn10612_c0', 'rxn04036_c0', 'rxn10490_c0', \n",
    "       'rxn02751_c0', 'rxn10527_c0', 'TSot_c0', 'rxn10610_c0', \n",
    "       'rxn11751_c0', 'rxn10433_c0', 'rxn10595_c0', 'rxn04934_c0', \n",
    "       'rxn05201_c0', 'rxn05527_c0', 'rxn00469_c0', 'rxn02297_c0', \n",
    "       'rxn05197_c0', 'rxn00172_c0', 'rxn07307_c0', 'rxn01333_c0', \n",
    "       'rxn07191_c0', 'rxn00283_c0', 'rxn01200_c0', 'rxn00646_c0', \n",
    "       'rxn05155_c0', 'rxn02569_c0', 'rxn02296_c0', 'rxn03904_c0', \n",
    "       'rxn02277_c0', 'rxn05313_c0', 'rxn04783_c0', 'rxn02288_c0', \n",
    "       'rxn10315_c0', 'rxn10312_c0', 'rxn10308_c0', 'rxn10309_c0', \n",
    "       'rxn08040_c0', 'rxn10310_c0', 'rxn10311_c0', 'rxn10314_c0', \n",
    "       'rxn10307_c0', 'rxn10313_c0', 'rxn08180_c0', 'rxn00274_c0', \n",
    "       'rxn02312_c0', 'rxn05559_c0', 'rxn00175_c0', 'rxn00669_c0', \n",
    "       'rxn00675_c0', 'rxn00986_c0', 'rxn00834_c0', 'rxn00711_c0', \n",
    "       'rxn01117_c0', 'rxn04050_c0', 'rxn03492_c0', 'rxn01300_c0', \n",
    "       'rxn00351_c0', 'rxn00097_c0', 'rxn10904_c0', 'rxn02430_c0', \n",
    "       'MFs_c0', 'rxn00833_c0', 'H4MPT3M2Om_c0', '4ADSs_c0', \n",
    "       'rxn09429_c0', 'rxn10577_c0', 'rxn00062_c0', '4ASDH_c0', \n",
    "       'rxn10480_c0', 'TSf_c0', 'rxn00258_c0', 'rxn00150_c0', \n",
    "       'rxn09433_c0', 'rxn10491_c0', 'rxn10432_c0', 'ABEEs_c0', \n",
    "       'rxn10542_c0'\n",
    "      ]\n",
    "for r in rem:\n",
    "    removed = remove_reaction(new_model, r)\n",
    "growth_condition.evaluate({'morph': morph, 'model': new_model})"
   ]
  },
  {
   "cell_type": "code",
   "execution_count": 53,
   "metadata": {},
   "outputs": [
    {
     "data": {
      "text/plain": [
       "'optimal'"
      ]
     },
     "execution_count": 53,
     "metadata": {},
     "output_type": "execute_result"
    }
   ],
   "source": [
    "growth_condition.fba.status"
   ]
  },
  {
   "cell_type": "code",
   "execution_count": 11,
   "metadata": {},
   "outputs": [
    {
     "name": "stdout",
     "output_type": "stream",
     "text": [
      "service <__main__.Service object at 0x7fb5b0b9b2e8>\n",
      "src_model Type: <class '__main__.FBAModel'>, Stored Identity: ('MaripaludisModelRevisedCleanIds', 'bking:narrative_1568786274121')\n",
      "media Type: <class 'objects.Media'>, Stored Identity: ('2016_01_19_h2co2only_media', '48520')\n",
      "probanno Type: <class 'objects.ReactionProbabilities'>, Stored Identity: ('auto15', '48520')\n",
      "protcomp Type: <class 'objects.ProteomeComparison'>, Stored Identity: ('maripaludis_to_barkeri_9_17_19', '48520')\n",
      "genome None\n",
      "ws_id 48520\n"
     ]
    }
   ],
   "source": [
    "morph = Morph(service=service,\n",
    "              src_model=src_model,\n",
    "              media=media,\n",
    "              probanno=probanno,\n",
    "              protcomp=protcomp,\n",
    "              genome=genome,\n",
    "              ws_id=ws_id)\n",
    "#morph.probanno=probanno\n",
    "#morph.media=media\n",
    "#morph.check_rep()"
   ]
  },
  {
   "cell_type": "code",
   "execution_count": 12,
   "metadata": {},
   "outputs": [],
   "source": [
    "morph.recon_model = recon_model\n",
    "morph.trans_model = translated_model"
   ]
  },
  {
   "cell_type": "code",
   "execution_count": 13,
   "metadata": {},
   "outputs": [],
   "source": [
    "morph.label_reactions()"
   ]
  },
  {
   "cell_type": "code",
   "execution_count": 14,
   "metadata": {},
   "outputs": [
    {
     "name": "stdout",
     "output_type": "stream",
     "text": [
      "gene-no-match 79\n",
      "gene-match 445\n",
      "no-gene 96\n",
      "recon 214\n",
      "common 302\n"
     ]
    }
   ],
   "source": [
    "for k in morph.rxn_labels:\n",
    "    print(k, len(morph.rxn_labels[k]))"
   ]
  },
  {
   "cell_type": "code",
   "execution_count": 15,
   "metadata": {},
   "outputs": [],
   "source": [
    "if morph.merge_conflicts is None:\n",
    "    morph.merge_conflicts = []\n",
    "src_rxns = dict([(r.rxn_id(), r) for r in morph.src_model.get_reactions()])\n",
    "super_rxns = dict()\n",
    "super_rxns_full = dict()  # TODO consolidate if manual addition is better\n",
    "specials = list()"
   ]
  },
  {
   "cell_type": "code",
   "execution_count": 16,
   "metadata": {},
   "outputs": [],
   "source": [
    "import copy\n",
    "\n",
    "def clone_model(m):\n",
    "    return FBAModel(m.identity[0], \n",
    "                    m.identity[1],\n",
    "                    m.service, \n",
    "                    copy.deepcopy(m.get_object()),\n",
    "                    m.persistent)\n",
    "\n",
    "# copy the trans model\n",
    "morph.model = clone_model(morph.trans_model)"
   ]
  },
  {
   "cell_type": "code",
   "execution_count": null,
   "metadata": {},
   "outputs": [],
   "source": []
  },
  {
   "cell_type": "code",
   "execution_count": 17,
   "metadata": {},
   "outputs": [
    {
     "name": "stdout",
     "output_type": "stream",
     "text": [
      "131\n"
     ]
    }
   ],
   "source": [
    "#  ---->\n",
    "# Adding reactions into the translation.\n",
    "# First, go through every reaction they have in common and adjust if\n",
    "# necessary:\n",
    "reactions_to_remove = []\n",
    "for rxn_id in morph.rxn_labels['common']:\n",
    "    trans_rxn = morph.rxn_labels['common'][rxn_id][0]  # MR\n",
    "    recon_rxn = morph.rxn_labels['common'][rxn_id][1]  # MR\n",
    "    merge_gpr = trans_rxn.gpr.merge(recon_rxn.gpr)\n",
    "    direction = _general_direction(trans_rxn, recon_rxn)\n",
    "    if trans_rxn.gpr != merge_gpr or trans_rxn.get_direction() != direction:\n",
    "        morph.merge_conflicts.append(rxn_id)\n",
    "        super_rxns[rxn_id] = (recon_rxn.get_rxn_ref(), recon_rxn.get_comp_ref(), direction, str(merge_gpr))\n",
    "        super_rxns_full[rxn_id] = recon_rxn\n",
    "        removal_id = trans_rxn.get_removal_id()\n",
    "        reactions_to_remove.append(removal_id)\n",
    "        \n",
    "print(len(reactions_to_remove))"
   ]
  },
  {
   "cell_type": "code",
   "execution_count": null,
   "metadata": {},
   "outputs": [],
   "source": []
  },
  {
   "cell_type": "code",
   "execution_count": null,
   "metadata": {},
   "outputs": [],
   "source": [
    "def build_supermodel(morph):\n",
    "    # ---->\n",
    "    # removes the rxns we need to remove in place vs. making a new copy\n",
    "    morph.service.remove_reactions_in_place(morph.model, reactions_to_remove)\n",
    "    # Next, add all the reactions that aren't already in the translation:\n",
    "    # Add the GENE_NO_MATCH reactions:\n",
    "    for rxn_id in morph.rxn_labels['gene-no-match']:\n",
    "        reaction = morph.rxn_labels['gene-no-match'][rxn_id]\n",
    "        if reaction.is_special_ref():\n",
    "            specials.append(reaction)\n",
    "        else:\n",
    "            super_rxns[rxn_id] = (reaction.get_rxn_ref(), reaction.get_comp_ref(), reaction.get_direction())\n",
    "            super_rxns_full[rxn_id] = reaction\n",
    "    adjustments = []\n",
    "    # Add the RECON reactions:\n",
    "    for rxn_id in morph.rxn_labels['recon']:\n",
    "        reaction = morph.rxn_labels['recon'][rxn_id]\n",
    "        if rxn_id in src_rxns:\n",
    "            direction = _general_direction(reaction, src_rxns[rxn_id])\n",
    "        else:\n",
    "            direction = reaction.get_direction()\n",
    "        if reaction.is_special_ref():\n",
    "            specials.append(reaction)\n",
    "        else:\n",
    "            if rxn_id not in super_rxns:\n",
    "                super_rxns[rxn_id] = (reaction.get_rxn_ref(), reaction.get_comp_ref(), direction, str(reaction.gpr))\n",
    "                super_rxns_full[rxn_id] = reaction\n",
    "                adjustments.append((reaction.get_removal_id(), reaction.gpr))\n",
    "    # ---->\n",
    "    super_rxns = super_rxns.values()\n",
    "    result = morph.service.add_reactions_manually(morph.model, super_rxns_full.values(), name='super_model')\n",
    "    morph.model = FBAModel(result[0], result[1], service=morph.service)\n",
    "    morph.service.adjust_gprs(morph.model, adjustments)\n",
    "    result = morph.service.add_reactions_manually(morph.model, specials, name='super_modelspc')\n",
    "    morph.model = FBAModel(result[0], result[1], service=morph.service)"
   ]
  },
  {
   "cell_type": "code",
   "execution_count": 18,
   "metadata": {},
   "outputs": [
    {
     "data": {
      "text/plain": [
       "Type: <class '__main__.FBAModel'>, Stored Identity: ('super_modelspc', '48520')"
      ]
     },
     "execution_count": 18,
     "metadata": {},
     "output_type": "execute_result"
    }
   ],
   "source": [
    "morph.model = super_modelspc\n",
    "morph.model"
   ]
  },
  {
   "cell_type": "code",
   "execution_count": 19,
   "metadata": {},
   "outputs": [],
   "source": [
    "%run ../lib/mightymorphingmodels/GrowthConditions.py\n",
    "\n",
    "growth_condition=None\n",
    "rxn_list=None\n",
    "removal_list = None\n",
    "name=None\n",
    "num_reactions=-1\n",
    "if growth_condition is None:\n",
    "    growth_condition = CobraCondition()\n",
    "max_rxns = num_reactions >= 0 and num_reactions or len(removal_list)\n",
    "print(max_rxns)"
   ]
  },
  {
   "cell_type": "code",
   "execution_count": 20,
   "metadata": {},
   "outputs": [
    {
     "name": "stdout",
     "output_type": "stream",
     "text": [
      "175\n"
     ]
    }
   ],
   "source": [
    "def get_key(item):\n",
    "    return morph.get_prob(item[0])\n",
    "\n",
    "if rxn_list is None:\n",
    "    rxn_dict = morph.rxn_labels['gene-no-match']\n",
    "    removal_list = sorted(rxn_dict.items(), key=get_key)\n",
    "    rxn_dict = morph.rxn_labels['no-gene']\n",
    "    removal_list += sorted(rxn_dict.items(), key=get_key)\n",
    "    removal_list = [r for r in removal_list if r[0] not in morph.rxn_labels['common']]\n",
    "else:\n",
    "    removal_list = rxn_list\n",
    "print(len(removal_list))\n",
    "\n",
    "if morph.essential_ids is None:\n",
    "    morph.essential_ids = dict()\n",
    "if morph.removed_ids is None:\n",
    "    morph.removed_ids = dict()\n",
    "if name is None:\n",
    "    name = 'MorphedModel'"
   ]
  },
  {
   "cell_type": "code",
   "execution_count": 21,
   "metadata": {},
   "outputs": [
    {
     "name": "stdout",
     "output_type": "stream",
     "text": [
      "175\n"
     ]
    }
   ],
   "source": []
  },
  {
   "cell_type": "code",
   "execution_count": 22,
   "metadata": {},
   "outputs": [],
   "source": []
  },
  {
   "cell_type": "code",
   "execution_count": 24,
   "metadata": {},
   "outputs": [],
   "source": [
    "def add_reaction(m, rxn):\n",
    "    object_data = m.get_object()\n",
    "    object_data['modelreactions'].append(rxn)\n",
    "def remove_reaction(m, rxn_id):\n",
    "    object_data = m.get_object()\n",
    "    excluded = list(filter(lambda x : x['id'] == rxn_id, object_data['modelreactions']))\n",
    "    rem_list = list(filter(lambda x : not x['id'] == rxn_id, object_data['modelreactions']))\n",
    "    if len(rem_list) == len(object_data['modelreactions']):\n",
    "        logger.warning('reaction %s not in model', rxn_id)\n",
    "        return []\n",
    "    \n",
    "    object_data['modelreactions'] = rem_list\n",
    "    return excluded\n",
    "\n",
    "#removed = remove_reaction(new_model, 'rxn00048_c0')\n",
    "#removed"
   ]
  },
  {
   "cell_type": "code",
   "execution_count": 25,
   "metadata": {},
   "outputs": [
    {
     "data": {
      "text/plain": [
       "dict_keys([])"
      ]
     },
     "execution_count": 25,
     "metadata": {},
     "output_type": "execute_result"
    }
   ],
   "source": [
    "morph.removed_ids.keys()"
   ]
  },
  {
   "cell_type": "code",
   "execution_count": null,
   "metadata": {},
   "outputs": [],
   "source": []
  },
  {
   "cell_type": "code",
   "execution_count": 26,
   "metadata": {},
   "outputs": [
    {
     "name": "stderr",
     "output_type": "stream",
     "text": [
      "WARNING:__main__:Reaction to remove: TSost_c0 / TSost_c0\n",
      "WARNING:__main__:Reaction to remove: TSost_c0 / TSost_c0 [REMOVED]\n",
      "WARNING:__main__:Reaction to remove: rxn10611_c0 / rxn10611_c0\n",
      "WARNING:__main__:Reaction to remove: rxn10611_c0 / rxn10611_c0 [REMOVED]\n",
      "WARNING:__main__:Reaction to remove: rxn10596_c0 / rxn10596_c0\n",
      "WARNING:__main__:Reaction to remove: rxn10596_c0 / rxn10596_c0 [REMOVED]\n",
      "WARNING:__main__:Reaction to remove: rxn00298_c0 / rxn00298_c0\n",
      "WARNING:__main__:Reaction to remove: rxn00298_c0 / rxn00298_c0 [REMOVED]\n",
      "WARNING:__main__:Reaction to remove: rxn10472_c0 / rxn10472_c0\n",
      "WARNING:__main__:Reaction to remove: rxn10472_c0 / rxn10472_c0 [REMOVED]\n",
      "WARNING:__main__:Reaction to remove: rxn10435_c0 / rxn10435_c0\n",
      "WARNING:__main__:Reaction to remove: rxn10435_c0 / rxn10435_c0 [REMOVED]\n",
      "WARNING:__main__:Reaction to remove: rxn10469_c0 / rxn10469_c0\n",
      "WARNING:__main__:Reaction to remove: rxn10469_c0 / rxn10469_c0 [REMOVED]\n",
      "WARNING:__main__:Reaction to remove: GLYPs_c0 / GLYPs_c0\n",
      "WARNING:__main__:Reaction to remove: GLYPs_c0 / GLYPs_c0 [REMOVED]\n",
      "WARNING:__main__:Reaction to remove: rxn10610_c0 / rxn10610_c0\n",
      "WARNING:__main__:Reaction to remove: rxn10610_c0 / rxn10610_c0 [REMOVED]\n",
      "WARNING:__main__:Reaction to remove: rxn10468_c0 / rxn10468_c0\n",
      "WARNING:__main__:Reaction to remove: rxn10468_c0 / rxn10468_c0 [REMOVED]\n",
      "WARNING:__main__:Reaction to remove: rxn10433_c0 / rxn10433_c0\n",
      "WARNING:__main__:Reaction to remove: rxn10433_c0 / rxn10433_c0 [REMOVED]\n",
      "WARNING:__main__:Reaction to remove: rxn06696_c0 / rxn06696_c0\n",
      "WARNING:__main__:Reaction to remove: rxn06696_c0 / rxn06696_c0 [REMOVED]\n",
      "WARNING:__main__:Reaction to remove: rxn10612_c0 / rxn10612_c0\n",
      "WARNING:__main__:Reaction to remove: rxn10612_c0 / rxn10612_c0 [REMOVED]\n",
      "WARNING:__main__:Reaction to remove: MetS_c0 / MetS_c0\n",
      "WARNING:__main__:Reaction to remove: MetS_c0 / MetS_c0 [ESSENTIAL]\n",
      "WARNING:__main__:Reaction to remove: rxn04934_c0 / rxn04934_c0\n",
      "WARNING:__main__:Reaction to remove: rxn04934_c0 / rxn04934_c0 [REMOVED]\n",
      "WARNING:__main__:Reaction to remove: TSot_c0 / TSot_c0\n",
      "WARNING:__main__:Reaction to remove: TSot_c0 / TSot_c0 [REMOVED]\n",
      "WARNING:__main__:Reaction to remove: rxn10595_c0 / rxn10595_c0\n",
      "WARNING:__main__:Reaction to remove: rxn10595_c0 / rxn10595_c0 [REMOVED]\n",
      "WARNING:__main__:Reaction to remove: rxn10490_c0 / rxn10490_c0\n",
      "WARNING:__main__:Reaction to remove: rxn10490_c0 / rxn10490_c0 [REMOVED]\n",
      "WARNING:__main__:Reaction to remove: rxn02751_c0 / rxn02751_c0\n",
      "WARNING:__main__:Reaction to remove: rxn02751_c0 / rxn02751_c0 [REMOVED]\n",
      "WARNING:__main__:Reaction to remove: rxn04036_c0 / rxn04036_c0\n",
      "WARNING:__main__:Reaction to remove: rxn04036_c0 / rxn04036_c0 [REMOVED]\n",
      "WARNING:__main__:Reaction to remove: MANgt_c0 / MANgt_c0\n",
      "WARNING:__main__:Reaction to remove: MANgt_c0 / MANgt_c0 [REMOVED]\n",
      "WARNING:__main__:Reaction to remove: rxn10527_c0 / rxn10527_c0\n",
      "WARNING:__main__:Reaction to remove: rxn10527_c0 / rxn10527_c0 [REMOVED]\n",
      "WARNING:__main__:Reaction to remove: rxn10434_c0 / rxn10434_c0\n",
      "WARNING:__main__:Reaction to remove: rxn10434_c0 / rxn10434_c0 [REMOVED]\n",
      "WARNING:__main__:Reaction to remove: rxn11752_c0 / rxn11752_c0\n",
      "WARNING:__main__:Reaction to remove: rxn11752_c0 / rxn11752_c0 [REMOVED]\n",
      "WARNING:__main__:Reaction to remove: rxn11751_c0 / rxn11751_c0\n",
      "WARNING:__main__:Reaction to remove: rxn11751_c0 / rxn11751_c0 [REMOVED]\n",
      "WARNING:__main__:Reaction to remove: rxn02569_c0 / rxn02569_c0\n",
      "WARNING:__main__:Reaction to remove: rxn02569_c0 / rxn02569_c0 [REMOVED]\n",
      "WARNING:__main__:Reaction to remove: rxn00469_c0 / rxn00469_c0\n",
      "WARNING:__main__:Reaction to remove: rxn00469_c0 / rxn00469_c0 [REMOVED]\n",
      "WARNING:__main__:Reaction to remove: rxn01200_c0 / rxn01200_c0\n",
      "WARNING:__main__:Reaction to remove: rxn01200_c0 / rxn01200_c0 [REMOVED]\n",
      "WARNING:__main__:Reaction to remove: rxn00127_c0 / rxn00127_c0\n",
      "WARNING:__main__:Reaction to remove: rxn00127_c0 / rxn00127_c0 [ESSENTIAL]\n",
      "WARNING:__main__:Reaction to remove: rxn05527_c0 / rxn05527_c0\n",
      "WARNING:__main__:Reaction to remove: rxn05527_c0 / rxn05527_c0 [REMOVED]\n",
      "WARNING:__main__:Reaction to remove: rxn01333_c0 / rxn01333_c0\n",
      "WARNING:__main__:Reaction to remove: rxn01333_c0 / rxn01333_c0 [REMOVED]\n",
      "WARNING:__main__:Reaction to remove: rxn05197_c0 / rxn05197_c0\n",
      "WARNING:__main__:Reaction to remove: rxn05197_c0 / rxn05197_c0 [REMOVED]\n",
      "WARNING:__main__:Reaction to remove: rxn00285_c0 / rxn00285_c0\n",
      "WARNING:__main__:Reaction to remove: rxn00285_c0 / rxn00285_c0 [ESSENTIAL]\n",
      "WARNING:__main__:Reaction to remove: rxn07191_c0 / rxn07191_c0\n",
      "WARNING:__main__:Reaction to remove: rxn07191_c0 / rxn07191_c0 [REMOVED]\n",
      "WARNING:__main__:Reaction to remove: rxn02297_c0 / rxn02297_c0\n",
      "WARNING:__main__:Reaction to remove: rxn02297_c0 / rxn02297_c0 [REMOVED]\n",
      "WARNING:__main__:Reaction to remove: rxn00646_c0 / rxn00646_c0\n",
      "WARNING:__main__:Reaction to remove: rxn00646_c0 / rxn00646_c0 [REMOVED]\n",
      "WARNING:__main__:Reaction to remove: rxn05155_c0 / rxn05155_c0\n",
      "WARNING:__main__:Reaction to remove: rxn05155_c0 / rxn05155_c0 [REMOVED]\n",
      "WARNING:__main__:Reaction to remove: rxn02277_c0 / rxn02277_c0\n",
      "WARNING:__main__:Reaction to remove: rxn02277_c0 / rxn02277_c0 [REMOVED]\n",
      "WARNING:__main__:Reaction to remove: rxn01974_c0 / rxn01974_c0\n",
      "WARNING:__main__:Reaction to remove: rxn01974_c0 / rxn01974_c0 [ESSENTIAL]\n",
      "WARNING:__main__:Reaction to remove: rxn07307_c0 / rxn07307_c0\n",
      "WARNING:__main__:Reaction to remove: rxn07307_c0 / rxn07307_c0 [REMOVED]\n",
      "WARNING:__main__:Reaction to remove: rxn00785_c0 / rxn00785_c0\n",
      "WARNING:__main__:Reaction to remove: rxn00785_c0 / rxn00785_c0 [ESSENTIAL]\n",
      "WARNING:__main__:Reaction to remove: rxn05201_c0 / rxn05201_c0\n",
      "WARNING:__main__:Reaction to remove: rxn05201_c0 / rxn05201_c0 [REMOVED]\n",
      "WARNING:__main__:Reaction to remove: rxn00283_c0 / rxn00283_c0\n",
      "WARNING:__main__:Reaction to remove: rxn00283_c0 / rxn00283_c0 [REMOVED]\n",
      "WARNING:__main__:Reaction to remove: rxn02296_c0 / rxn02296_c0\n",
      "WARNING:__main__:Reaction to remove: rxn02296_c0 / rxn02296_c0 [REMOVED]\n",
      "WARNING:__main__:Reaction to remove: rxn01116_c0 / rxn01116_c0\n",
      "WARNING:__main__:Reaction to remove: rxn01116_c0 / rxn01116_c0 [ESSENTIAL]\n",
      "WARNING:__main__:Reaction to remove: rxn00278_c0 / rxn00278_c0\n",
      "WARNING:__main__:Reaction to remove: rxn00278_c0 / rxn00278_c0 [ESSENTIAL]\n",
      "WARNING:__main__:Reaction to remove: rxn01406_c0 / rxn01406_c0\n",
      "WARNING:__main__:Reaction to remove: rxn01406_c0 / rxn01406_c0 [ESSENTIAL]\n",
      "WARNING:__main__:Reaction to remove: rxn03904_c0 / rxn03904_c0\n",
      "WARNING:__main__:Reaction to remove: rxn03904_c0 / rxn03904_c0 [REMOVED]\n",
      "WARNING:__main__:Reaction to remove: rxn05313_c0 / rxn05313_c0\n",
      "WARNING:__main__:Reaction to remove: rxn05313_c0 / rxn05313_c0 [REMOVED]\n",
      "WARNING:__main__:Reaction to remove: rxn00172_c0 / rxn00172_c0\n",
      "WARNING:__main__:Reaction to remove: rxn00172_c0 / rxn00172_c0 [REMOVED]\n",
      "WARNING:__main__:Reaction to remove: rxn04783_c0 / rxn04783_c0\n",
      "WARNING:__main__:Reaction to remove: rxn04783_c0 / rxn04783_c0 [REMOVED]\n",
      "WARNING:__main__:Reaction to remove: rxn02288_c0 / rxn02288_c0\n",
      "WARNING:__main__:Reaction to remove: rxn02288_c0 / rxn02288_c0 [REMOVED]\n",
      "WARNING:__main__:Reaction to remove: rxn10314_c0 / rxn10314_c0\n",
      "WARNING:__main__:Reaction to remove: rxn10314_c0 / rxn10314_c0 [REMOVED]\n",
      "WARNING:__main__:Reaction to remove: rxn10308_c0 / rxn10308_c0\n",
      "WARNING:__main__:Reaction to remove: rxn10308_c0 / rxn10308_c0 [REMOVED]\n",
      "WARNING:__main__:Reaction to remove: rxn10310_c0 / rxn10310_c0\n",
      "WARNING:__main__:Reaction to remove: rxn10310_c0 / rxn10310_c0 [REMOVED]\n",
      "WARNING:__main__:Reaction to remove: rxn10307_c0 / rxn10307_c0\n",
      "WARNING:__main__:Reaction to remove: rxn10307_c0 / rxn10307_c0 [REMOVED]\n",
      "WARNING:__main__:Reaction to remove: rxn10311_c0 / rxn10311_c0\n",
      "WARNING:__main__:Reaction to remove: rxn10311_c0 / rxn10311_c0 [REMOVED]\n",
      "WARNING:__main__:Reaction to remove: rxn10312_c0 / rxn10312_c0\n",
      "WARNING:__main__:Reaction to remove: rxn10312_c0 / rxn10312_c0 [REMOVED]\n",
      "WARNING:__main__:Reaction to remove: rxn10313_c0 / rxn10313_c0\n",
      "WARNING:__main__:Reaction to remove: rxn10313_c0 / rxn10313_c0 [REMOVED]\n",
      "WARNING:__main__:Reaction to remove: rxn10315_c0 / rxn10315_c0\n",
      "WARNING:__main__:Reaction to remove: rxn10315_c0 / rxn10315_c0 [REMOVED]\n",
      "WARNING:__main__:Reaction to remove: rxn10309_c0 / rxn10309_c0\n",
      "WARNING:__main__:Reaction to remove: rxn10309_c0 / rxn10309_c0 [REMOVED]\n",
      "WARNING:__main__:Reaction to remove: rxn08040_c0 / rxn08040_c0\n",
      "WARNING:__main__:Reaction to remove: rxn08040_c0 / rxn08040_c0 [REMOVED]\n",
      "WARNING:__main__:Reaction to remove: rxn05177_c0 / rxn05177_c0\n",
      "WARNING:__main__:Reaction to remove: rxn05177_c0 / rxn05177_c0 [ESSENTIAL]\n",
      "WARNING:__main__:Reaction to remove: rxn08180_c0 / rxn08180_c0\n",
      "WARNING:__main__:Reaction to remove: rxn08180_c0 / rxn08180_c0 [REMOVED]\n",
      "WARNING:__main__:Reaction to remove: rxn00274_c0 / rxn00274_c0\n",
      "WARNING:__main__:Reaction to remove: rxn00274_c0 / rxn00274_c0 [REMOVED]\n",
      "WARNING:__main__:Reaction to remove: rxn02312_c0 / rxn02312_c0\n",
      "WARNING:__main__:Reaction to remove: rxn02312_c0 / rxn02312_c0 [REMOVED]\n",
      "WARNING:__main__:Reaction to remove: rxn05559_c0 / rxn05559_c0\n",
      "WARNING:__main__:Reaction to remove: rxn05559_c0 / rxn05559_c0 [REMOVED]\n",
      "WARNING:__main__:Reaction to remove: rxn00669_c0 / rxn00669_c0\n",
      "WARNING:__main__:Reaction to remove: rxn00669_c0 / rxn00669_c0 [REMOVED]\n",
      "WARNING:__main__:Reaction to remove: rxn00175_c0 / rxn00175_c0\n",
      "WARNING:__main__:Reaction to remove: rxn00175_c0 / rxn00175_c0 [REMOVED]\n",
      "WARNING:__main__:Reaction to remove: rxn00986_c0 / rxn00986_c0\n",
      "WARNING:__main__:Reaction to remove: rxn00986_c0 / rxn00986_c0 [REMOVED]\n",
      "WARNING:__main__:Reaction to remove: rxn00675_c0 / rxn00675_c0\n",
      "WARNING:__main__:Reaction to remove: rxn00675_c0 / rxn00675_c0 [REMOVED]\n",
      "WARNING:__main__:Reaction to remove: rxn00834_c0 / rxn00834_c0\n",
      "WARNING:__main__:Reaction to remove: rxn00834_c0 / rxn00834_c0 [REMOVED]\n",
      "WARNING:__main__:Reaction to remove: rxn00711_c0 / rxn00711_c0\n",
      "WARNING:__main__:Reaction to remove: rxn00711_c0 / rxn00711_c0 [REMOVED]\n",
      "WARNING:__main__:Reaction to remove: rxn01117_c0 / rxn01117_c0\n",
      "WARNING:__main__:Reaction to remove: rxn01117_c0 / rxn01117_c0 [REMOVED]\n",
      "WARNING:__main__:Reaction to remove: rxn03492_c0 / rxn03492_c0\n",
      "WARNING:__main__:Reaction to remove: rxn03492_c0 / rxn03492_c0 [REMOVED]\n",
      "WARNING:__main__:Reaction to remove: rxn04050_c0 / rxn04050_c0\n",
      "WARNING:__main__:Reaction to remove: rxn04050_c0 / rxn04050_c0 [REMOVED]\n",
      "WARNING:__main__:Reaction to remove: rxn01300_c0 / rxn01300_c0\n",
      "WARNING:__main__:Reaction to remove: rxn01300_c0 / rxn01300_c0 [REMOVED]\n",
      "WARNING:__main__:Reaction to remove: rxn00351_c0 / rxn00351_c0\n",
      "WARNING:__main__:Reaction to remove: rxn00351_c0 / rxn00351_c0 [REMOVED]\n",
      "WARNING:__main__:Reaction to remove: rxn00097_c0 / rxn00097_c0\n",
      "WARNING:__main__:Reaction to remove: rxn00097_c0 / rxn00097_c0 [REMOVED]\n",
      "WARNING:__main__:Reaction to remove: rxn05909_c0 / rxn05909_c0\n",
      "WARNING:__main__:Reaction to remove: rxn05909_c0 / rxn05909_c0 [REMOVED]\n",
      "WARNING:__main__:Reaction to remove: LAFor_c0 / LAFor_c0\n",
      "WARNING:__main__:Reaction to remove: LAFor_c0 / LAFor_c0 [REMOVED]\n",
      "WARNING:__main__:Reaction to remove: rxn10424_c0 / rxn10424_c0\n",
      "WARNING:__main__:Reaction to remove: rxn10424_c0 / rxn10424_c0 [REMOVED]\n",
      "WARNING:__main__:Reaction to remove: H4MPTs_c0 / H4MPTs_c0\n",
      "WARNING:__main__:Reaction to remove: H4MPTs_c0 / H4MPTs_c0 [REMOVED]\n",
      "WARNING:__main__:Reaction to remove: rxn07210_c0 / rxn07210_c0\n",
      "WARNING:__main__:Reaction to remove: rxn07210_c0 / rxn07210_c0 [REMOVED]\n",
      "WARNING:__main__:Reaction to remove: rxn08019_c0 / rxn08019_c0\n",
      "WARNING:__main__:Reaction to remove: rxn08019_c0 / rxn08019_c0 [REMOVED]\n",
      "WARNING:__main__:Reaction to remove: rxn00833_c0 / rxn00833_c0\n",
      "WARNING:__main__:Reaction to remove: rxn00833_c0 / rxn00833_c0 [REMOVED]\n",
      "WARNING:__main__:Reaction to remove: rxn10904_c0 / rxn10904_c0\n",
      "WARNING:__main__:Reaction to remove: rxn10904_c0 / rxn10904_c0 [REMOVED]\n",
      "WARNING:__main__:Reaction to remove: rxn10480_c0 / rxn10480_c0\n",
      "WARNING:__main__:Reaction to remove: rxn10480_c0 / rxn10480_c0 [REMOVED]\n",
      "WARNING:__main__:Reaction to remove: rxn10425_c0 / rxn10425_c0\n",
      "WARNING:__main__:Reaction to remove: rxn10425_c0 / rxn10425_c0 [REMOVED]\n",
      "WARNING:__main__:Reaction to remove: rxn13772_c0 / rxn13772_c0\n",
      "WARNING:__main__:Reaction to remove: rxn13772_c0 / rxn13772_c0 [REMOVED]\n",
      "WARNING:__main__:Reaction to remove: rxn01491_c0 / rxn01491_c0\n",
      "WARNING:__main__:Reaction to remove: rxn01491_c0 / rxn01491_c0 [REMOVED]\n",
      "WARNING:__main__:Reaction to remove: GALgt_c0 / GALgt_c0\n",
      "WARNING:__main__:Reaction to remove: GALgt_c0 / GALgt_c0 [REMOVED]\n",
      "WARNING:__main__:Reaction to remove: rxn10542_c0 / rxn10542_c0\n",
      "WARNING:__main__:Reaction to remove: rxn10542_c0 / rxn10542_c0 [REMOVED]\n",
      "WARNING:__main__:Reaction to remove: rxn00149_c0 / rxn00149_c0\n",
      "WARNING:__main__:Reaction to remove: rxn00149_c0 / rxn00149_c0 [REMOVED]\n",
      "WARNING:__main__:Reaction to remove: rxn02430_c0 / rxn02430_c0\n",
      "WARNING:__main__:Reaction to remove: rxn02430_c0 / rxn02430_c0 [REMOVED]\n",
      "WARNING:__main__:Reaction to remove: HPAr_c0 / HPAr_c0\n",
      "WARNING:__main__:Reaction to remove: HPAr_c0 / HPAr_c0 [ESSENTIAL]\n",
      "WARNING:__main__:Reaction to remove: rxn11950_c0 / rxn11950_c0\n",
      "WARNING:__main__:Reaction to remove: rxn11950_c0 / rxn11950_c0 [REMOVED]\n",
      "WARNING:__main__:Reaction to remove: ABEEs_c0 / ABEEs_c0\n",
      "WARNING:__main__:Reaction to remove: ABEEs_c0 / ABEEs_c0 [REMOVED]\n",
      "WARNING:__main__:Reaction to remove: EX-cpd11416_c0 / EX-cpd11416_c0\n",
      "WARNING:__main__:Reaction to remove: EX-cpd11416_c0 / EX-cpd11416_c0 [REMOVED]\n",
      "WARNING:__main__:Reaction to remove: rxn01208_c0 / rxn01208_c0\n",
      "WARNING:__main__:Reaction to remove: rxn01208_c0 / rxn01208_c0 [REMOVED]\n",
      "WARNING:__main__:Reaction to remove: rxn10577_c0 / rxn10577_c0\n",
      "cobra/util/solver.py:416 \u001b[1;31mUserWarning\u001b[0m: solver status is 'infeasible'\n",
      "WARNING:__main__:Reaction to remove: rxn10577_c0 / rxn10577_c0 [ESSENTIAL]\n",
      "WARNING:__main__:Reaction to remove: rxn11855_c0 / rxn11855_c0\n",
      "WARNING:__main__:Reaction to remove: rxn11855_c0 / rxn11855_c0 [REMOVED]\n",
      "WARNING:__main__:Reaction to remove: rxn13477_c0 / rxn13477_c0\n",
      "WARNING:__main__:Reaction to remove: rxn13477_c0 / rxn13477_c0 [REMOVED]\n",
      "WARNING:__main__:Reaction to remove: rxn10508_c0 / rxn10508_c0\n",
      "WARNING:__main__:Reaction to remove: rxn10508_c0 / rxn10508_c0 [REMOVED]\n",
      "WARNING:__main__:Reaction to remove: rxn10509_c0 / rxn10509_c0\n",
      "WARNING:__main__:Reaction to remove: rxn10509_c0 / rxn10509_c0 [REMOVED]\n",
      "WARNING:__main__:Reaction to remove: H4MPT3M2Om_c0 / H4MPT3M2Om_c0\n",
      "WARNING:__main__:Reaction to remove: H4MPT3M2Om_c0 / H4MPT3M2Om_c0 [REMOVED]\n",
      "WARNING:__main__:Reaction to remove: rxn08349_c0 / rxn08349_c0\n",
      "WARNING:__main__:Reaction to remove: rxn08349_c0 / rxn08349_c0 [ESSENTIAL]\n",
      "WARNING:__main__:Reaction to remove: 4ASDHT_c0 / 4ASDHT_c0\n",
      "WARNING:__main__:Reaction to remove: 4ASDHT_c0 / 4ASDHT_c0 [REMOVED]\n",
      "WARNING:__main__:Reaction to remove: rxn10954_c0 / rxn10954_c0\n",
      "WARNING:__main__:Reaction to remove: rxn10954_c0 / rxn10954_c0 [REMOVED]\n",
      "WARNING:__main__:Reaction to remove: rxn05744_c0 / rxn05744_c0\n",
      "WARNING:__main__:Reaction to remove: rxn05744_c0 / rxn05744_c0 [REMOVED]\n",
      "WARNING:__main__:Reaction to remove: rxn00062_c0 / rxn00062_c0\n",
      "WARNING:__main__:Reaction to remove: rxn00062_c0 / rxn00062_c0 [REMOVED]\n",
      "WARNING:__main__:Reaction to remove: rxn10541_c0 / rxn10541_c0\n",
      "WARNING:__main__:Reaction to remove: rxn10541_c0 / rxn10541_c0 [ESSENTIAL]\n",
      "WARNING:__main__:Reaction to remove: rxn10608_c0 / rxn10608_c0\n",
      "WARNING:__main__:Reaction to remove: rxn10608_c0 / rxn10608_c0 [REMOVED]\n",
      "WARNING:__main__:Reaction to remove: rxn10475_c0 / rxn10475_c0\n",
      "WARNING:__main__:Reaction to remove: rxn10475_c0 / rxn10475_c0 [REMOVED]\n",
      "WARNING:__main__:Reaction to remove: 4ASDH_c0 / 4ASDH_c0\n",
      "WARNING:__main__:Reaction to remove: 4ASDH_c0 / 4ASDH_c0 [REMOVED]\n",
      "WARNING:__main__:Reaction to remove: rxn09429_c0 / rxn09429_c0\n",
      "WARNING:__main__:Reaction to remove: rxn09429_c0 / rxn09429_c0 [REMOVED]\n",
      "WARNING:__main__:Reaction to remove: TSf_c0 / TSf_c0\n",
      "WARNING:__main__:Reaction to remove: TSf_c0 / TSf_c0 [REMOVED]\n",
      "WARNING:__main__:Reaction to remove: EX-cpd15302_c0 / EX-cpd15302_c0\n",
      "WARNING:__main__:Reaction to remove: EX-cpd15302_c0 / EX-cpd15302_c0 [REMOVED]\n",
      "WARNING:__main__:Reaction to remove: rxn10599_c0 / rxn10599_c0\n",
      "WARNING:__main__:Reaction to remove: rxn10599_c0 / rxn10599_c0 [REMOVED]\n",
      "WARNING:__main__:Reaction to remove: HdrABC_c0 / HdrABC_c0\n",
      "WARNING:__main__:Reaction to remove: HdrABC_c0 / HdrABC_c0 [REMOVED]\n",
      "WARNING:__main__:Reaction to remove: SELt_c0 / SELt_c0\n",
      "WARNING:__main__:Reaction to remove: SELt_c0 / SELt_c0 [REMOVED]\n",
      "WARNING:__main__:Reaction to remove: EX-cpd15573_c0 / EX-cpd15573_c0\n",
      "WARNING:__main__:Reaction to remove: EX-cpd15573_c0 / EX-cpd15573_c0 [REMOVED]\n",
      "WARNING:__main__:Reaction to remove: 3DHQAT_c0 / 3DHQAT_c0\n",
      "WARNING:__main__:Reaction to remove: 3DHQAT_c0 / 3DHQAT_c0 [REMOVED]\n",
      "WARNING:__main__:Reaction to remove: rxn10471_c0 / rxn10471_c0\n",
      "WARNING:__main__:Reaction to remove: rxn10471_c0 / rxn10471_c0 [ESSENTIAL]\n",
      "WARNING:__main__:Reaction to remove: rxn10510_c0 / rxn10510_c0\n",
      "WARNING:__main__:Reaction to remove: rxn10510_c0 / rxn10510_c0 [REMOVED]\n",
      "WARNING:__main__:Reaction to remove: rxn10420_c0 / rxn10420_c0\n",
      "WARNING:__main__:Reaction to remove: rxn10420_c0 / rxn10420_c0 [REMOVED]\n",
      "WARNING:__main__:Reaction to remove: rxn10491_c0 / rxn10491_c0\n",
      "WARNING:__main__:Reaction to remove: rxn10491_c0 / rxn10491_c0 [REMOVED]\n",
      "WARNING:__main__:Reaction to remove: rxn09433_c0 / rxn09433_c0\n",
      "WARNING:__main__:Reaction to remove: rxn09433_c0 / rxn09433_c0 [REMOVED]\n",
      "WARNING:__main__:Reaction to remove: rxn10511_c0 / rxn10511_c0\n",
      "WARNING:__main__:Reaction to remove: rxn10511_c0 / rxn10511_c0 [REMOVED]\n",
      "WARNING:__main__:Reaction to remove: MFs_c0 / MFs_c0\n",
      "WARNING:__main__:Reaction to remove: MFs_c0 / MFs_c0 [REMOVED]\n",
      "WARNING:__main__:Reaction to remove: COMs_c0 / COMs_c0\n",
      "WARNING:__main__:Reaction to remove: COMs_c0 / COMs_c0 [REMOVED]\n",
      "WARNING:__main__:Reaction to remove: 4ADSs_c0 / 4ADSs_c0\n",
      "WARNING:__main__:Reaction to remove: 4ADSs_c0 / 4ADSs_c0 [REMOVED]\n",
      "WARNING:__main__:Reaction to remove: rxn10512_c0 / rxn10512_c0\n",
      "WARNING:__main__:Reaction to remove: rxn10512_c0 / rxn10512_c0 [REMOVED]\n",
      "WARNING:__main__:Reaction to remove: rxn04675_c0 / rxn04675_c0\n",
      "WARNING:__main__:Reaction to remove: rxn04675_c0 / rxn04675_c0 [REMOVED]\n",
      "WARNING:__main__:Reaction to remove: rxn10560_c0 / rxn10560_c0\n",
      "WARNING:__main__:Reaction to remove: rxn10560_c0 / rxn10560_c0 [REMOVED]\n",
      "WARNING:__main__:Reaction to remove: rxn00258_c0 / rxn00258_c0\n",
      "WARNING:__main__:Reaction to remove: rxn00258_c0 / rxn00258_c0 [REMOVED]\n",
      "WARNING:__main__:Reaction to remove: rxn10559_c0 / rxn10559_c0\n",
      "WARNING:__main__:Reaction to remove: rxn10559_c0 / rxn10559_c0 [REMOVED]\n",
      "WARNING:__main__:Reaction to remove: rxn00150_c0 / rxn00150_c0\n",
      "WARNING:__main__:Reaction to remove: rxn00150_c0 / rxn00150_c0 [REMOVED]\n",
      "WARNING:__main__:Reaction to remove: rxn10587_c0 / rxn10587_c0\n",
      "WARNING:__main__:Reaction to remove: rxn10587_c0 / rxn10587_c0 [REMOVED]\n",
      "WARNING:__main__:Reaction to remove: rxn10432_c0 / rxn10432_c0\n",
      "WARNING:__main__:Reaction to remove: rxn10432_c0 / rxn10432_c0 [REMOVED]\n",
      "WARNING:__main__:Reaction to remove: FH4MPTAf_c0 / FH4MPTAf_c0\n",
      "WARNING:__main__:Reaction to remove: FH4MPTAf_c0 / FH4MPTAf_c0 [ESSENTIAL]\n",
      "WARNING:__main__:Reaction to remove: rxn02832_c0 / rxn02832_c0\n",
      "WARNING:__main__:Reaction to remove: rxn02832_c0 / rxn02832_c0 [REMOVED]\n",
      "WARNING:__main__:Reaction to remove: rxn02155_c0 / rxn02155_c0\n",
      "WARNING:__main__:Reaction to remove: rxn02155_c0 / rxn02155_c0 [REMOVED]\n",
      "WARNING:__main__:Reaction to remove: rxn00346_c0 / rxn00346_c0\n",
      "WARNING:__main__:Reaction to remove: rxn00346_c0 / rxn00346_c0 [REMOVED]\n",
      "WARNING:__main__:Reaction to remove: rxn01618_c0 / rxn01618_c0\n",
      "WARNING:__main__:Reaction to remove: rxn01618_c0 / rxn01618_c0 [REMOVED]\n",
      "WARNING:__main__:Reaction to remove: rxn05024_c0 / rxn05024_c0\n",
      "WARNING:__main__:Reaction to remove: rxn05024_c0 / rxn05024_c0 [REMOVED]\n",
      "WARNING:__main__:Reaction to remove: rxn03168_c0 / rxn03168_c0\n",
      "WARNING:__main__:Reaction to remove: rxn03168_c0 / rxn03168_c0 [REMOVED]\n",
      "WARNING:__main__:Reaction to remove: rxn01256_c0 / rxn01256_c0\n",
      "WARNING:__main__:Reaction to remove: rxn01256_c0 / rxn01256_c0 [ESSENTIAL]\n",
      "WARNING:__main__:Reaction to remove: rxn11703_c0 / rxn11703_c0\n",
      "WARNING:__main__:Reaction to remove: rxn11703_c0 / rxn11703_c0 [REMOVED]\n",
      "WARNING:__main__:Reaction to remove: rxn01258_c0 / rxn01258_c0\n",
      "WARNING:__main__:Reaction to remove: rxn01258_c0 / rxn01258_c0 [REMOVED]\n",
      "WARNING:__main__:Reaction to remove: rxn10181_c0 / rxn10181_c0\n",
      "WARNING:__main__:Reaction to remove: rxn10181_c0 / rxn10181_c0 [REMOVED]\n",
      "WARNING:__main__:Reaction to remove: rxn02898_c0 / rxn02898_c0\n",
      "WARNING:__main__:Reaction to remove: rxn02898_c0 / rxn02898_c0 [REMOVED]\n",
      "WARNING:__main__:Reaction to remove: rxn00979_c0 / rxn00979_c0\n",
      "WARNING:__main__:Reaction to remove: rxn00979_c0 / rxn00979_c0 [REMOVED]\n",
      "WARNING:__main__:Reaction to remove: rxn01538_c0 / rxn01538_c0\n",
      "WARNING:__main__:Reaction to remove: rxn01538_c0 / rxn01538_c0 [ESSENTIAL]\n",
      "WARNING:__main__:Reaction to remove: rxn00392_c0 / rxn00392_c0\n",
      "WARNING:__main__:Reaction to remove: rxn00392_c0 / rxn00392_c0 [REMOVED]\n",
      "WARNING:__main__:Reaction to remove: rxn05174_c0 / rxn05174_c0\n",
      "WARNING:__main__:Reaction to remove: rxn05174_c0 / rxn05174_c0 [REMOVED]\n",
      "WARNING:__main__:Reaction to remove: rxn05039_c0 / rxn05039_c0\n",
      "WARNING:__main__:Reaction to remove: rxn05039_c0 / rxn05039_c0 [REMOVED]\n",
      "WARNING:__main__:Reaction to remove: rxn06023_c0 / rxn06023_c0\n",
      "WARNING:__main__:Reaction to remove: rxn06023_c0 / rxn06023_c0 [REMOVED]\n",
      "WARNING:__main__:Reaction to remove: rxn05667_c0 / rxn05667_c0\n",
      "WARNING:__main__:Reaction to remove: rxn05667_c0 / rxn05667_c0 [REMOVED]\n",
      "WARNING:__main__:Reaction to remove: rxn00122_c0 / rxn00122_c0\n",
      "WARNING:__main__:Reaction to remove: rxn00122_c0 / rxn00122_c0 [REMOVED]\n",
      "WARNING:__main__:Reaction to remove: rxn09562_c0 / rxn09562_c0\n",
      "WARNING:__main__:Reaction to remove: rxn09562_c0 / rxn09562_c0 [REMOVED]\n",
      "WARNING:__main__:Reaction to remove: rxn00137_c0 / rxn00137_c0\n",
      "WARNING:__main__:Reaction to remove: rxn00137_c0 / rxn00137_c0 [REMOVED]\n",
      "WARNING:__main__:Reaction to remove: rxn05023_c0 / rxn05023_c0\n",
      "WARNING:__main__:Reaction to remove: rxn05023_c0 / rxn05023_c0 [REMOVED]\n",
      "WARNING:__main__:Reaction to remove: rxn03150_c0 / rxn03150_c0\n",
      "WARNING:__main__:Reaction to remove: rxn03150_c0 / rxn03150_c0 [REMOVED]\n",
      "WARNING:__main__:Reaction to remove: rxn00737_c0 / rxn00737_c0\n",
      "WARNING:__main__:Reaction to remove: rxn00737_c0 / rxn00737_c0 [REMOVED]\n",
      "WARNING:__main__:Reaction to remove: rxn03537_c0 / rxn03537_c0\n",
      "WARNING:__main__:Reaction to remove: rxn03537_c0 / rxn03537_c0 [REMOVED]\n",
      "WARNING:__main__:Reaction to remove: rxn03536_c0 / rxn03536_c0\n",
      "WARNING:__main__:Reaction to remove: rxn03536_c0 / rxn03536_c0 [REMOVED]\n",
      "WARNING:__main__:Reaction to remove: rxn00350_c0 / rxn00350_c0\n",
      "WARNING:__main__:Reaction to remove: rxn00350_c0 / rxn00350_c0 [REMOVED]\n",
      "WARNING:__main__:Reaction to remove: rxn11702_c0 / rxn11702_c0\n",
      "WARNING:__main__:Reaction to remove: rxn11702_c0 / rxn11702_c0 [REMOVED]\n",
      "WARNING:__main__:Reaction to remove: rxn01068_c0 / rxn01068_c0\n",
      "WARNING:__main__:Reaction to remove: rxn01068_c0 / rxn01068_c0 [REMOVED]\n",
      "WARNING:__main__:Reaction to remove: rxn00512_c0 / rxn00512_c0\n",
      "WARNING:__main__:Reaction to remove: rxn00512_c0 / rxn00512_c0 [REMOVED]\n",
      "WARNING:__main__:Reaction to remove: rxn00272_c0 / rxn00272_c0\n",
      "WARNING:__main__:Reaction to remove: rxn00272_c0 / rxn00272_c0 [REMOVED]\n",
      "WARNING:__main__:Reaction to remove: rxn02831_c0 / rxn02831_c0\n",
      "WARNING:__main__:Reaction to remove: rxn02831_c0 / rxn02831_c0 [REMOVED]\n",
      "WARNING:__main__:Reaction to remove: rxn01972_c0 / rxn01972_c0\n",
      "WARNING:__main__:Reaction to remove: rxn01972_c0 / rxn01972_c0 [REMOVED]\n",
      "WARNING:__main__:Reaction to remove: rxn10052_c0 / rxn10052_c0\n",
      "WARNING:__main__:Reaction to remove: rxn10052_c0 / rxn10052_c0 [REMOVED]\n"
     ]
    }
   ],
   "source": [
    "#clone super_modelspc for reaction removal\n",
    "new_model = clone_model(morph.model)\n",
    "for i in range(max_rxns):\n",
    "    removal_id = removal_list[i][1].get_removal_id()\n",
    "    rxn = removal_list[i][0]\n",
    "    \n",
    "    logger.warning('Reaction to remove: %s / %s', removal_id, rxn)\n",
    "    removed = remove_reaction(new_model, removal_id)\n",
    "    if growth_condition.evaluate({'morph': morph, 'model': new_model}):\n",
    "        logger.warning('Reaction to remove: %s / %s [REMOVED]', removal_id, rxn)\n",
    "        # removed successfully\n",
    "        morph.log.add('Removed Reaction', \n",
    "                      [morph.model, growth_condition.fba], \n",
    "                      [new_model],\n",
    "                      context='process reactions')\n",
    "        morph.removed_ids[removal_id] = removal_list[i][1]\n",
    "    else:\n",
    "        logger.warning('Reaction to remove: %s / %s [ESSENTIAL]', removal_id, rxn)\n",
    "        # essential\n",
    "        morph.log.add('Kept Reaction', \n",
    "                      [morph.model, growth_condition.fba], \n",
    "                      [new_model],\n",
    "                      context='process reactions')\n",
    "        morph.essential_ids[removal_id] = removal_list[i][1]\n",
    "        for r in removed:\n",
    "            add_reaction(new_model, r)\n",
    "morph.model = new_model"
   ]
  },
  {
   "cell_type": "code",
   "execution_count": null,
   "metadata": {},
   "outputs": [],
   "source": []
  },
  {
   "cell_type": "code",
   "execution_count": 30,
   "metadata": {},
   "outputs": [
    {
     "name": "stdout",
     "output_type": "stream",
     "text": [
      "initialize\n",
      "Removed Reaction 70.1816708809984 optimal\n",
      "Removed Reaction 70.18167088099828 optimal\n",
      "Removed Reaction 70.18167088099864 optimal\n",
      "Removed Reaction 70.1816708809985 optimal\n",
      "Removed Reaction 70.18167088099842 optimal\n",
      "Removed Reaction 70.18167088099844 optimal\n",
      "Removed Reaction 70.18167088099841 optimal\n",
      "Removed Reaction 57.1041045208059 optimal\n",
      "Removed Reaction 57.10410452080591 optimal\n",
      "Removed Reaction 57.10410452080589 optimal\n",
      "Removed Reaction 57.1041045208058 optimal\n",
      "Removed Reaction 57.10410452080596 optimal\n",
      "Removed Reaction 57.10410452080602 optimal\n",
      "Kept Reaction 0.0 optimal\n",
      "Removed Reaction 57.10410452080602 optimal\n",
      "Removed Reaction 57.10410452080598 optimal\n",
      "Removed Reaction 57.10410452080582 optimal\n",
      "Removed Reaction 57.10410452080583 optimal\n",
      "Removed Reaction 57.10410452080588 optimal\n",
      "Removed Reaction 57.1041045208059 optimal\n",
      "Removed Reaction 57.104104520806075 optimal\n",
      "Removed Reaction 57.10410452080599 optimal\n",
      "Removed Reaction 57.104104520805684 optimal\n",
      "Removed Reaction 57.104104520806 optimal\n",
      "Removed Reaction 57.10410452080588 optimal\n",
      "Removed Reaction 57.10410452080595 optimal\n",
      "Removed Reaction 57.10410452080614 optimal\n",
      "Removed Reaction 57.080804698987386 optimal\n",
      "Kept Reaction 0.0 optimal\n",
      "Removed Reaction 57.080804698987436 optimal\n",
      "Removed Reaction 57.0808046989874 optimal\n",
      "Removed Reaction 57.08080469898748 optimal\n",
      "Kept Reaction 0.0 optimal\n",
      "Removed Reaction 50.30909799446469 optimal\n",
      "Removed Reaction 50.30909799446458 optimal\n",
      "Removed Reaction 50.30909799446458 optimal\n",
      "Removed Reaction 50.30909799446456 optimal\n",
      "Removed Reaction 50.30909799446457 optimal\n",
      "Kept Reaction 0.0 optimal\n",
      "Removed Reaction 50.30909799446456 optimal\n",
      "Kept Reaction 0.0 optimal\n",
      "Removed Reaction 50.309097994464594 optimal\n",
      "Removed Reaction 50.30909799446456 optimal\n",
      "Removed Reaction 50.30909799446477 optimal\n",
      "Kept Reaction 0.0 optimal\n",
      "Kept Reaction 0.0 optimal\n",
      "Kept Reaction 0.0 optimal\n",
      "Removed Reaction 50.309097994464594 optimal\n",
      "Removed Reaction 49.00828533250378 optimal\n",
      "Removed Reaction 49.008285332503775 optimal\n",
      "Removed Reaction 49.00828533250375 optimal\n",
      "Removed Reaction 49.008285332503796 optimal\n",
      "Removed Reaction 49.00828533250377 optimal\n",
      "Removed Reaction 49.008285332503775 optimal\n",
      "Removed Reaction 49.00828533250377 optimal\n",
      "Removed Reaction 49.00828533250378 optimal\n",
      "Removed Reaction 49.008285332503775 optimal\n",
      "Removed Reaction 49.00828533250376 optimal\n",
      "Removed Reaction 49.00828533250377 optimal\n",
      "Removed Reaction 49.008285332503775 optimal\n",
      "Removed Reaction 49.00828533250378 optimal\n",
      "Removed Reaction 49.008285332503746 optimal\n",
      "Kept Reaction 0.0 optimal\n",
      "Removed Reaction 49.00828533250375 optimal\n",
      "Removed Reaction 49.00828533250377 optimal\n",
      "Removed Reaction 49.00828533250376 optimal\n",
      "Removed Reaction 49.00828533250361 optimal\n",
      "Removed Reaction 49.008285332503775 optimal\n",
      "Removed Reaction 49.00828533250375 optimal\n",
      "Removed Reaction 49.00828533250376 optimal\n",
      "Removed Reaction 49.00828533250375 optimal\n",
      "Removed Reaction 49.008285332503746 optimal\n",
      "Removed Reaction 49.00828533250378 optimal\n",
      "Removed Reaction 49.008285332503775 optimal\n",
      "Removed Reaction 49.00828533250369 optimal\n",
      "Removed Reaction 49.00828533250376 optimal\n",
      "Removed Reaction 49.00828533250376 optimal\n",
      "Removed Reaction 49.008285332503775 optimal\n",
      "Removed Reaction 49.00828533250376 optimal\n",
      "Removed Reaction 49.008285332503746 optimal\n",
      "Removed Reaction 49.00828533250377 optimal\n",
      "Removed Reaction 49.008285332503775 optimal\n",
      "Removed Reaction 49.00828533250376 optimal\n",
      "Removed Reaction 49.00828533250367 optimal\n",
      "Removed Reaction 49.008285332503796 optimal\n",
      "Removed Reaction 49.00828533250377 optimal\n",
      "Removed Reaction 47.75295812761816 optimal\n",
      "Removed Reaction 46.681101860039455 optimal\n",
      "Removed Reaction 46.68110186003947 optimal\n",
      "Removed Reaction 46.681101860039504 optimal\n",
      "Removed Reaction 40.43820731776725 optimal\n",
      "Removed Reaction 40.43820731776719 optimal\n",
      "Removed Reaction 40.43820731776723 optimal\n",
      "Removed Reaction 40.43820731776723 optimal\n",
      "Removed Reaction 40.43820731776722 optimal\n",
      "Kept Reaction 0.0 optimal\n",
      "Removed Reaction 40.438207317767215 optimal\n",
      "Removed Reaction 40.438207317767215 optimal\n",
      "Removed Reaction 40.43820731776724 optimal\n",
      "Removed Reaction 40.43820731776717 optimal\n",
      "Kept Reaction 40.43820731776717 optimal\n",
      "Removed Reaction 40.43820731776723 optimal\n",
      "Removed Reaction 40.438207317767194 optimal\n",
      "Removed Reaction 40.43820731776721 optimal\n",
      "Removed Reaction 40.43820731776727 optimal\n",
      "Removed Reaction 40.43820731776722 optimal\n",
      "Kept Reaction 0.0 optimal\n",
      "Removed Reaction 40.43820731776719 optimal\n",
      "Removed Reaction 40.43820731776722 optimal\n",
      "Removed Reaction 40.43820731776729 optimal\n",
      "Removed Reaction 40.43820731776721 optimal\n",
      "Kept Reaction 0.0 optimal\n",
      "Removed Reaction 40.438207317767265 optimal\n",
      "Removed Reaction 40.43820731776723 optimal\n",
      "Removed Reaction 40.438207317767166 optimal\n",
      "Removed Reaction 40.438207317767265 optimal\n",
      "Removed Reaction 40.43820731776726 optimal\n",
      "Removed Reaction 40.43820731776721 optimal\n",
      "Removed Reaction 40.43820731776718 optimal\n",
      "Removed Reaction 40.438207317767315 optimal\n",
      "Removed Reaction 40.43820731776724 optimal\n",
      "Removed Reaction 40.43820731776719 optimal\n",
      "Removed Reaction 40.438207317767265 optimal\n",
      "Kept Reaction 40.438207317767265 optimal\n",
      "Removed Reaction 40.4382073177672 optimal\n",
      "Removed Reaction 40.43820731776727 optimal\n",
      "Removed Reaction 40.438207317766825 optimal\n",
      "Removed Reaction 40.43820731776722 optimal\n",
      "Removed Reaction 40.43820731776724 optimal\n",
      "Removed Reaction 40.4382073177673 optimal\n",
      "Removed Reaction 40.43820731776727 optimal\n",
      "Removed Reaction 40.43820731776727 optimal\n",
      "Removed Reaction 40.438207317767294 optimal\n",
      "Removed Reaction 40.43820731776725 optimal\n",
      "Removed Reaction 40.43820731776719 optimal\n",
      "Removed Reaction 40.43820731776678 optimal\n",
      "Removed Reaction 40.438207317767485 optimal\n",
      "Removed Reaction 40.43820731776727 optimal\n",
      "Removed Reaction 40.43820731776691 optimal\n",
      "Removed Reaction 40.43820731776722 optimal\n",
      "Kept Reaction 0.0 optimal\n",
      "Removed Reaction 40.438207317767194 optimal\n",
      "Removed Reaction 40.438207317767215 optimal\n",
      "Removed Reaction 40.438207317767265 optimal\n",
      "Removed Reaction 39.9042594286971 optimal\n",
      "Removed Reaction 39.90425942869714 optimal\n",
      "Removed Reaction 39.90425942869729 optimal\n",
      "Kept Reaction 0.0 optimal\n",
      "Removed Reaction 39.90425942869719 optimal\n",
      "Removed Reaction 39.90425942869716 optimal\n",
      "Removed Reaction 39.90425942869707 optimal\n",
      "Removed Reaction 39.904259428697166 optimal\n",
      "Removed Reaction 39.90425942869704 optimal\n",
      "Kept Reaction 0.0 optimal\n",
      "Removed Reaction 39.9042594286971 optimal\n",
      "Removed Reaction 39.90425942869719 optimal\n",
      "Removed Reaction 39.904259428697124 optimal\n",
      "Removed Reaction 39.9042594286971 optimal\n",
      "Removed Reaction 39.904259428697166 optimal\n",
      "Removed Reaction 39.90425942869719 optimal\n",
      "Removed Reaction 39.904259428697195 optimal\n",
      "Removed Reaction 39.90425942869716 optimal\n",
      "Removed Reaction 39.90425942869717 optimal\n",
      "Removed Reaction 39.90425942869719 optimal\n",
      "Removed Reaction 39.90425942869715 optimal\n",
      "Removed Reaction 39.90425942869714 optimal\n",
      "Removed Reaction 39.90425942869713 optimal\n",
      "Removed Reaction 39.904259428697124 optimal\n",
      "Removed Reaction 39.904259428697245 optimal\n",
      "Removed Reaction 39.90425942869719 optimal\n",
      "Removed Reaction 39.90425942869717 optimal\n",
      "Removed Reaction 39.90425942869723 optimal\n",
      "Removed Reaction 39.904259428697166 optimal\n",
      "Removed Reaction 39.90425942869715 optimal\n",
      "Removed Reaction 39.90425942869721 optimal\n"
     ]
    }
   ],
   "source": [
    "for a in morph.log.actions:\n",
    "    if a.type == 'Removed Reaction' or a.type == 'Kept Reaction':\n",
    "        print(a.type, a.members['in'][1].objective_value, a.members['in'][1].status)\n",
    "    else:\n",
    "        print(a.type)"
   ]
  },
  {
   "cell_type": "code",
   "execution_count": null,
   "metadata": {},
   "outputs": [],
   "source": []
  },
  {
   "cell_type": "code",
   "execution_count": null,
   "metadata": {},
   "outputs": [],
   "source": []
  },
  {
   "cell_type": "code",
   "execution_count": null,
   "metadata": {},
   "outputs": [],
   "source": []
  },
  {
   "cell_type": "code",
   "execution_count": 139,
   "metadata": {},
   "outputs": [],
   "source": [
    "def process_reactions(self, rxn_list=None, name=None, growth_condition=None, num_reactions=-1):\n",
    "    if growth_condition is None:\n",
    "        growth_condition = GrowthConditions.SimpleCondition(service=self.service)\n",
    "\n",
    "    ws = self.ws_id\n",
    "    # Sort by probanno. items() returns (K, V=(model_index, prob))\n",
    "\n",
    "    def get_key(item):\n",
    "        return self.get_prob(item[0])\n",
    "\n",
    "    # label argument behavior\n",
    "    if rxn_list is None:\n",
    "        rxn_dict = self.rxn_labels['gene-no-match']\n",
    "        removal_list = sorted(rxn_dict.items(), key=get_key)\n",
    "        rxn_dict = self.rxn_labels['no-gene']\n",
    "        removal_list += sorted(rxn_dict.items(), key=get_key)\n",
    "        removal_list = [r for r in removal_list if r[0] not in self.rxn_labels['common']]\n",
    "    else:\n",
    "        removal_list = rxn_list\n",
    "    # instantiate lists only if needed\n",
    "    if self.essential_ids is None:\n",
    "        self.essential_ids = dict()\n",
    "    if self.removed_ids is None:\n",
    "        self.removed_ids = dict()\n",
    "    # Give objs a general name if none is provided\n",
    "    if name is None:\n",
    "        name = 'MorphedModel'\n",
    "    max = num_reactions >= 0 and num_reactions or len(removal_list)\n",
    "    for i in range(max):\n",
    "        removal_id = removal_list[i][1].get_removal_id()\n",
    "        rxn = removal_list[i][0]\n",
    "        if removal_id.startswith('rxn00000'):\n",
    "            self.log.add('skip', [self.model, removal_list[i][1]], [None], context='process_reactions')\n",
    "            continue\n",
    "        print('\\nReaction to remove: ' + str(removal_id) + \" / \" + str(rxn))\n",
    "        # TODO Find someway to fix the behavior bug if model_id is not in ws, etc.\n",
    "        info = self.service.remove_reaction(self.model, removal_id, output_id=name)\n",
    "        new_model = FBAModel(info[0], info[1], service=self.service)\n",
    "        if growth_condition.evaluate({'morph': self, 'model': new_model}):\n",
    "            # removed successfully\n",
    "            self.log.add('Removed Reaction', [self.model, growth_condition.fba], [new_model],\n",
    "                         context='process reactions')\n",
    "            self.model = new_model\n",
    "            self.removed_ids[removal_id] = removal_list[i][1]\n",
    "        else:\n",
    "            # essential\n",
    "            self.log.add('Kept Reaction', [self.model, growth_condition.fba], [new_model],\n",
    "                         context='process reactions')\n",
    "            self.essential_ids[removal_id] = removal_list[i][1]\n",
    "        print(self.log.actions[-1].type + ' ' + str(removal_id) + ', FBA was ' + str(growth_condition.fba.objective))\n",
    "    return self"
   ]
  },
  {
   "cell_type": "code",
   "execution_count": null,
   "metadata": {},
   "outputs": [],
   "source": []
  }
 ],
 "metadata": {
  "kernelspec": {
   "display_name": "Python 3",
   "language": "python",
   "name": "python3"
  },
  "language_info": {
   "codemirror_mode": {
    "name": "ipython",
    "version": 3
   },
   "file_extension": ".py",
   "mimetype": "text/x-python",
   "name": "python",
   "nbconvert_exporter": "python",
   "pygments_lexer": "ipython3",
   "version": "3.6.5"
  }
 },
 "nbformat": 4,
 "nbformat_minor": 2
}
