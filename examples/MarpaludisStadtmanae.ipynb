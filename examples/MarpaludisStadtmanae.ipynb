{
 "cells": [
  {
   "cell_type": "code",
   "execution_count": 1,
   "metadata": {},
   "outputs": [
    {
     "name": "stdout",
     "output_type": "stream",
     "text": [
      "cobrakbase 0.2.2\n"
     ]
    }
   ],
   "source": [
    "import cobrakbase"
   ]
  },
  {
   "cell_type": "code",
   "execution_count": 3,
   "metadata": {},
   "outputs": [],
   "source": [
    "kbase = cobrakbase.KBaseAPI('<TOKEN>')"
   ]
  },
  {
   "cell_type": "code",
   "execution_count": 134,
   "metadata": {},
   "outputs": [],
   "source": [
    "%run ../lib/mightymorphingmodels/morph.py\n",
    "%run ../lib/mightymorphingmodels/service.py\n",
    "%run ../lib/mightymorphingmodels/objects.py\n"
   ]
  },
  {
   "cell_type": "code",
   "execution_count": null,
   "metadata": {},
   "outputs": [],
   "source": []
  },
  {
   "cell_type": "code",
   "execution_count": 140,
   "metadata": {},
   "outputs": [
    {
     "name": "stdout",
     "output_type": "stream",
     "text": [
      "None\n",
      "48522\n"
     ]
    },
    {
     "ename": "AttributeError",
     "evalue": "'NoneType' object has no attribute 'objective'",
     "output_type": "error",
     "traceback": [
      "\u001b[0;31m---------------------------------------------------------------------------\u001b[0m",
      "\u001b[0;31mAttributeError\u001b[0m                            Traceback (most recent call last)",
      "\u001b[0;32m<ipython-input-140-4e7fd4b186ef>\u001b[0m in \u001b[0;36m<module>\u001b[0;34m\u001b[0m\n\u001b[1;32m      1\u001b[0m \u001b[0mget_ipython\u001b[0m\u001b[0;34m(\u001b[0m\u001b[0;34m)\u001b[0m\u001b[0;34m.\u001b[0m\u001b[0mrun_line_magic\u001b[0m\u001b[0;34m(\u001b[0m\u001b[0;34m'run'\u001b[0m\u001b[0;34m,\u001b[0m \u001b[0;34m'../lib/mightymorphingmodels/GrowthConditions.py'\u001b[0m\u001b[0;34m)\u001b[0m\u001b[0;34m\u001b[0m\u001b[0m\n\u001b[1;32m      2\u001b[0m \u001b[0mgrowth_condition\u001b[0m \u001b[0;34m=\u001b[0m \u001b[0mCobraCondition\u001b[0m\u001b[0;34m(\u001b[0m\u001b[0;34m)\u001b[0m\u001b[0;34m\u001b[0m\u001b[0m\n\u001b[0;32m----> 3\u001b[0;31m \u001b[0mgrowth_condition\u001b[0m\u001b[0;34m.\u001b[0m\u001b[0mevaluate\u001b[0m\u001b[0;34m(\u001b[0m\u001b[0;34m{\u001b[0m\u001b[0;34m'morph'\u001b[0m\u001b[0;34m:\u001b[0m \u001b[0mmorph\u001b[0m\u001b[0;34m,\u001b[0m \u001b[0;34m'model'\u001b[0m\u001b[0;34m:\u001b[0m \u001b[0mtranslated_model\u001b[0m\u001b[0;34m}\u001b[0m\u001b[0;34m)\u001b[0m\u001b[0;34m\u001b[0m\u001b[0m\n\u001b[0m",
      "\u001b[0;32m~/workspace/jupyter/python3/kbase/mightymorphingmodels/lib/mightymorphingmodels/GrowthConditions.py\u001b[0m in \u001b[0;36mevaluate\u001b[0;34m(self, arguments)\u001b[0m\n\u001b[1;32m     42\u001b[0m         \u001b[0;31m#info = self.service.runfba(model, morph.media, workspace=morph.ws_id)\u001b[0m\u001b[0;34m\u001b[0m\u001b[0;34m\u001b[0m\u001b[0m\n\u001b[1;32m     43\u001b[0m         \u001b[0;31m#self.fba = objects.FBA(info[0], info[1], service=self.service)\u001b[0m\u001b[0;34m\u001b[0m\u001b[0;34m\u001b[0m\u001b[0m\n\u001b[0;32m---> 44\u001b[0;31m         \u001b[0;32mreturn\u001b[0m \u001b[0mself\u001b[0m\u001b[0;34m.\u001b[0m\u001b[0mfba\u001b[0m\u001b[0;34m.\u001b[0m\u001b[0mobjective\u001b[0m \u001b[0;34m>\u001b[0m \u001b[0;36m0.0\u001b[0m\u001b[0;34m\u001b[0m\u001b[0m\n\u001b[0m\u001b[1;32m     45\u001b[0m \u001b[0;34m\u001b[0m\u001b[0m\n\u001b[1;32m     46\u001b[0m \u001b[0;32mclass\u001b[0m \u001b[0mSimpleCondition\u001b[0m\u001b[0;34m(\u001b[0m\u001b[0mAbstractGrowthCondition\u001b[0m\u001b[0;34m)\u001b[0m\u001b[0;34m:\u001b[0m\u001b[0;34m\u001b[0m\u001b[0m\n",
      "\u001b[0;31mAttributeError\u001b[0m: 'NoneType' object has no attribute 'objective'"
     ]
    }
   ],
   "source": [
    "%run ../lib/mightymorphingmodels/GrowthConditions.py\n",
    "growth_condition = CobraCondition()\n",
    "growth_condition.evaluate({'morph': morph, 'model': translated_model})"
   ]
  },
  {
   "cell_type": "code",
   "execution_count": 127,
   "metadata": {},
   "outputs": [],
   "source": [
    "#genome = kbase.get_object('Methanocaldococcus_jannaschii_DSM_2661', ws_id)\n",
    "#protcomp = kbase.get_object('maripaludis_jannaschii', ws_id)\n",
    "probanno = kbase.get_object('Methanosphaera_stadtmanae_DSM_3091.rxnprobs', ws)\n",
    "#media = kbase.get_object('2016_01_19_h2co2only_media', ws_id)\n",
    "#src_model = kbase.get_object('MaripaludisModelRevised', ws_id)\n",
    "translated_model = kbase.get_object('translated_MaripaludisModelRevisedCleanIds', ws)\n",
    "#recon_model = kbase.get_object('recon_Methanosphaera_stadtmanae_DSM_3091', ws)\n",
    "super_modelspc = kbase.get_object('super_modelspc', ws)"
   ]
  },
  {
   "cell_type": "code",
   "execution_count": 128,
   "metadata": {},
   "outputs": [],
   "source": [
    "#src_model = FBAModel('MaripaludisModelRevised', ws_id, data=src_model)\n",
    "translated_model = FBAModel('translated_MaripaludisModelRevised', ws, data=translated_model)\n",
    "#recon_model = FBAModel('recon_Methanocaldococcus_jannaschii_DSM_2661', ws_id, data=recon_model)\n",
    "#genome = Genome('Methanocaldococcus_jannaschii_DSM_2661', ws_id, data=genome)\n",
    "#protcomp = ProteomeComparison('maripaludis_jannaschii', ws_id, data=protcomp)\n",
    "probanno = ReactionProbabilities('Methanosphaera_stadtmanae_DSM_3091.rxnprobs', ws_id, data=probanno)\n",
    "#media = Media('2016_01_19_h2co2only_media', ws_id, data=media)\n",
    "super_modelspc = FBAModel('super_modelspc', ws_id, data=super_modelspc)"
   ]
  },
  {
   "cell_type": "code",
   "execution_count": 64,
   "metadata": {},
   "outputs": [
    {
     "data": {
      "text/plain": [
       "Type: <class '__main__.FBAModel'>, Stored Identity: ('translated_MaripaludisModelRevised', 'bking:narrative_1568786629037')"
      ]
     },
     "execution_count": 64,
     "metadata": {},
     "output_type": "execute_result"
    }
   ],
   "source": [
    "translated_model"
   ]
  },
  {
   "cell_type": "code",
   "execution_count": 42,
   "metadata": {},
   "outputs": [],
   "source": [
    "src_model = None\n",
    "translated_model = None\n",
    "recon_model = None\n",
    "genome = None\n",
    "protcomp = None\n",
    "probanno = None\n",
    "media = None\n",
    "super_modelspc = None"
   ]
  },
  {
   "cell_type": "code",
   "execution_count": 84,
   "metadata": {},
   "outputs": [
    {
     "data": {
      "text/plain": [
       "Type: <class '__main__.ReactionProbabilities'>, Stored Identity: ('Methanosphaera_stadtmanae_DSM_3091.rxnprobs', '48522')"
      ]
     },
     "execution_count": 84,
     "metadata": {},
     "output_type": "execute_result"
    }
   ],
   "source": [
    "probanno"
   ]
  },
  {
   "cell_type": "code",
   "execution_count": 48,
   "metadata": {},
   "outputs": [],
   "source": [
    "service = Service(None, None, None)"
   ]
  },
  {
   "cell_type": "code",
   "execution_count": 83,
   "metadata": {},
   "outputs": [],
   "source": [
    "morph.probanno"
   ]
  },
  {
   "cell_type": "code",
   "execution_count": 125,
   "metadata": {},
   "outputs": [
    {
     "data": {
      "text/plain": [
       "__main__.ReactionProbabilities"
      ]
     },
     "execution_count": 125,
     "metadata": {},
     "output_type": "execute_result"
    }
   ],
   "source": [
    "type(morph.probanno)"
   ]
  },
  {
   "cell_type": "code",
   "execution_count": 123,
   "metadata": {},
   "outputs": [
    {
     "data": {
      "text/plain": [
       "__main__.ReactionProbabilities"
      ]
     },
     "execution_count": 123,
     "metadata": {},
     "output_type": "execute_result"
    }
   ],
   "source": [
    "ReactionProbabilities"
   ]
  },
  {
   "cell_type": "code",
   "execution_count": 132,
   "metadata": {},
   "outputs": [
    {
     "data": {
      "text/plain": [
       "True"
      ]
     },
     "execution_count": 132,
     "metadata": {},
     "output_type": "execute_result"
    }
   ],
   "source": [
    "isinstance(morph.probanno, ReactionProbabilities)\n",
    "#assert isinstance(morph.probanno, ReactionProbabilities), str(type(probanno))"
   ]
  },
  {
   "cell_type": "code",
   "execution_count": 133,
   "metadata": {},
   "outputs": [
    {
     "name": "stdout",
     "output_type": "stream",
     "text": [
      "service <__main__.Service object at 0x7f8d30abea90>\n",
      "src_model None\n",
      "media None\n",
      "probanno Type: <class '__main__.ReactionProbabilities'>, Stored Identity: ('Methanosphaera_stadtmanae_DSM_3091.rxnprobs', '48522')\n",
      "protcomp None\n",
      "genome None\n",
      "ws_id 48522\n"
     ]
    },
    {
     "ename": "AssertionError",
     "evalue": "<class '__main__.ReactionProbabilities'>",
     "output_type": "error",
     "traceback": [
      "\u001b[0;31m---------------------------------------------------------------------------\u001b[0m",
      "\u001b[0;31mAssertionError\u001b[0m                            Traceback (most recent call last)",
      "\u001b[0;32m<ipython-input-133-3c4163221fcb>\u001b[0m in \u001b[0;36m<module>\u001b[0;34m\u001b[0m\n\u001b[1;32m      7\u001b[0m               ws_id=ws_id)\n\u001b[1;32m      8\u001b[0m \u001b[0mmorph\u001b[0m\u001b[0;34m.\u001b[0m\u001b[0mprobanno\u001b[0m\u001b[0;34m=\u001b[0m\u001b[0mprobanno\u001b[0m\u001b[0;34m\u001b[0m\u001b[0m\n\u001b[0;32m----> 9\u001b[0;31m \u001b[0mmorph\u001b[0m\u001b[0;34m.\u001b[0m\u001b[0mcheck_rep\u001b[0m\u001b[0;34m(\u001b[0m\u001b[0;34m)\u001b[0m\u001b[0;34m\u001b[0m\u001b[0m\n\u001b[0m",
      "\u001b[0;32m~/workspace/jupyter/python3/kbase/mightymorphingmodels/lib/mightymorphingmodels/morph.py\u001b[0m in \u001b[0;36mcheck_rep\u001b[0;34m(self)\u001b[0m\n\u001b[1;32m     69\u001b[0m \u001b[0;34m\u001b[0m\u001b[0m\n\u001b[1;32m     70\u001b[0m     \u001b[0;32mdef\u001b[0m \u001b[0mcheck_rep\u001b[0m\u001b[0;34m(\u001b[0m\u001b[0mself\u001b[0m\u001b[0;34m)\u001b[0m\u001b[0;34m:\u001b[0m\u001b[0;34m\u001b[0m\u001b[0m\n\u001b[0;32m---> 71\u001b[0;31m         \u001b[0;32mreturn\u001b[0m \u001b[0mself\u001b[0m\u001b[0;34m.\u001b[0m\u001b[0m_check_rep\u001b[0m\u001b[0;34m(\u001b[0m\u001b[0;34m)\u001b[0m\u001b[0;34m\u001b[0m\u001b[0m\n\u001b[0m\u001b[1;32m     72\u001b[0m     \u001b[0;32mdef\u001b[0m \u001b[0m_check_rep\u001b[0m\u001b[0;34m(\u001b[0m\u001b[0mself\u001b[0m\u001b[0;34m)\u001b[0m\u001b[0;34m:\u001b[0m\u001b[0;34m\u001b[0m\u001b[0m\n\u001b[1;32m     73\u001b[0m         \u001b[0;32mif\u001b[0m \u001b[0mself\u001b[0m\u001b[0;34m.\u001b[0m\u001b[0mmodel\u001b[0m \u001b[0;32mis\u001b[0m \u001b[0;32mnot\u001b[0m \u001b[0;32mNone\u001b[0m\u001b[0;34m:\u001b[0m\u001b[0;34m\u001b[0m\u001b[0m\n",
      "\u001b[0;32m~/workspace/jupyter/python3/kbase/mightymorphingmodels/lib/mightymorphingmodels/morph.py\u001b[0m in \u001b[0;36m_check_rep\u001b[0;34m(self)\u001b[0m\n\u001b[1;32m     80\u001b[0m             \u001b[0;32massert\u001b[0m \u001b[0misinstance\u001b[0m\u001b[0;34m(\u001b[0m\u001b[0mself\u001b[0m\u001b[0;34m.\u001b[0m\u001b[0mmedia\u001b[0m\u001b[0;34m,\u001b[0m \u001b[0mMedia\u001b[0m\u001b[0;34m)\u001b[0m\u001b[0;34m,\u001b[0m \u001b[0mstr\u001b[0m\u001b[0;34m(\u001b[0m\u001b[0mtype\u001b[0m\u001b[0;34m(\u001b[0m\u001b[0mself\u001b[0m\u001b[0;34m.\u001b[0m\u001b[0mmedia\u001b[0m\u001b[0;34m)\u001b[0m\u001b[0;34m)\u001b[0m\u001b[0;34m\u001b[0m\u001b[0m\n\u001b[1;32m     81\u001b[0m         \u001b[0;32mif\u001b[0m \u001b[0mself\u001b[0m\u001b[0;34m.\u001b[0m\u001b[0mprobanno\u001b[0m \u001b[0;32mis\u001b[0m \u001b[0;32mnot\u001b[0m \u001b[0;32mNone\u001b[0m\u001b[0;34m:\u001b[0m\u001b[0;34m\u001b[0m\u001b[0m\n\u001b[0;32m---> 82\u001b[0;31m             \u001b[0;32massert\u001b[0m \u001b[0misinstance\u001b[0m\u001b[0;34m(\u001b[0m\u001b[0mself\u001b[0m\u001b[0;34m.\u001b[0m\u001b[0mprobanno\u001b[0m\u001b[0;34m,\u001b[0m \u001b[0mReactionProbabilities\u001b[0m\u001b[0;34m)\u001b[0m\u001b[0;34m,\u001b[0m \u001b[0mstr\u001b[0m\u001b[0;34m(\u001b[0m\u001b[0mtype\u001b[0m\u001b[0;34m(\u001b[0m\u001b[0mself\u001b[0m\u001b[0;34m.\u001b[0m\u001b[0mprobanno\u001b[0m\u001b[0;34m)\u001b[0m\u001b[0;34m)\u001b[0m\u001b[0;34m\u001b[0m\u001b[0m\n\u001b[0m\u001b[1;32m     83\u001b[0m         \u001b[0;32mif\u001b[0m \u001b[0mself\u001b[0m\u001b[0;34m.\u001b[0m\u001b[0mprotcomp\u001b[0m \u001b[0;32mis\u001b[0m \u001b[0;32mnot\u001b[0m \u001b[0;32mNone\u001b[0m\u001b[0;34m:\u001b[0m\u001b[0;34m\u001b[0m\u001b[0m\n\u001b[1;32m     84\u001b[0m             \u001b[0;32massert\u001b[0m \u001b[0misinstance\u001b[0m\u001b[0;34m(\u001b[0m\u001b[0mself\u001b[0m\u001b[0;34m.\u001b[0m\u001b[0mprotcomp\u001b[0m\u001b[0;34m,\u001b[0m \u001b[0mProteomeComparison\u001b[0m\u001b[0;34m)\u001b[0m\u001b[0;34m,\u001b[0m \u001b[0mstr\u001b[0m\u001b[0;34m(\u001b[0m\u001b[0mtype\u001b[0m\u001b[0;34m(\u001b[0m\u001b[0mself\u001b[0m\u001b[0;34m.\u001b[0m\u001b[0mprotcomp\u001b[0m\u001b[0;34m)\u001b[0m\u001b[0;34m)\u001b[0m\u001b[0;34m\u001b[0m\u001b[0m\n",
      "\u001b[0;31mAssertionError\u001b[0m: <class '__main__.ReactionProbabilities'>"
     ]
    }
   ],
   "source": [
    "morph = Morph(service=service,\n",
    "              src_model=src_model,\n",
    "              media=media,\n",
    "              probanno=probanno,\n",
    "              protcomp=protcomp,\n",
    "              genome=genome,\n",
    "              ws_id=ws_id)\n",
    "morph.probanno=probanno\n",
    "morph.check_rep()\n"
   ]
  },
  {
   "cell_type": "code",
   "execution_count": 103,
   "metadata": {},
   "outputs": [],
   "source": [
    "getattr(morph, 'probanno')"
   ]
  },
  {
   "cell_type": "code",
   "execution_count": 118,
   "metadata": {},
   "outputs": [
    {
     "name": "stdout",
     "output_type": "stream",
     "text": [
      "Type: <class '__main__.ReactionProbabilities'>, Stored Identity: ('Methanosphaera_stadtmanae_DSM_3091.rxnprobs', '48522')\n"
     ]
    }
   ],
   "source": [
    "print(morph.probanno)"
   ]
  },
  {
   "cell_type": "code",
   "execution_count": 8,
   "metadata": {},
   "outputs": [
    {
     "data": {
      "text/plain": [
       "'bking:narrative_1568786629037'"
      ]
     },
     "execution_count": 8,
     "metadata": {},
     "output_type": "execute_result"
    }
   ],
   "source": [
    "# Get a Workspace Service Client\n",
    "ws_id = '48522'\n",
    "ws_data = kbase.ws_client.get_workspace_info({'id': ws_id})\n",
    "ws = ws_data[1]\n",
    "ws"
   ]
  },
  {
   "cell_type": "code",
   "execution_count": null,
   "metadata": {},
   "outputs": [],
   "source": []
  },
  {
   "cell_type": "code",
   "execution_count": 9,
   "metadata": {},
   "outputs": [],
   "source": [
    "# Fetch new / old Morph Model\n",
    "def get_model_from_ws(model_name, workspace_id=ws_id):\n",
    "    return ws.get_objects2({'objects': [{'wsid': workspace_id, 'name': model_name}]})['data'][0]\n",
    "\n",
    "new_model = kbase.get_object('maripaludis_to_stadtmanae_morph_9_17_19', ws)\n",
    "old_model = kbase.get_object('MarpaludisStadtmanaeMorphOld', ws)"
   ]
  },
  {
   "cell_type": "code",
   "execution_count": 12,
   "metadata": {},
   "outputs": [
    {
     "name": "stdout",
     "output_type": "stream",
     "text": [
      "Number of Reactions found only in the new morph 10\n",
      "Number of Reactions found only in the old morph 80\n",
      "Number of Reactions found in both 589\n"
     ]
    }
   ],
   "source": [
    "# Simple Comparison of Model Contents based on Reaction Ids. Some previous models have identifiers with extra un-used \n",
    "# compartment tags, that no longer cooperate with KBase methods for reaction comparisons as expected. To simplify comparison,\n",
    "# remove: E.g. rxn_12345-c0-_c0 -> rxn_12345_c0.\n",
    "\n",
    "def get_rxn_id(r):\n",
    "    # perform id clean\n",
    "    return r['id'].replace('-c0-','')\n",
    "\n",
    "new_rxns = dict([(get_rxn_id(r) , r) for r in new_model['modelreactions']])\n",
    "old_rxns = dict([(get_rxn_id(r), r) for r in old_model['modelreactions']])\n",
    "\n",
    "new_only = set(new_rxns.keys()) - set(old_rxns.keys())\n",
    "old_only = set(old_rxns.keys()) - set(new_rxns.keys())\n",
    "both = set(new_rxns.keys()).intersection(set(old_rxns.keys()))\n",
    "\n",
    "print('Number of Reactions found only in the new morph', len(new_only))\n",
    "print('Number of Reactions found only in the old morph', len(old_only))\n",
    "print('Number of Reactions found in both', len(both))"
   ]
  },
  {
   "cell_type": "code",
   "execution_count": 19,
   "metadata": {},
   "outputs": [],
   "source": [
    "a = cobrakbase.core.KBaseFBAModel(new_model)\n",
    "#b = cobrakbase.core.KBaseFBAModel(old_model) #dup stuff"
   ]
  },
  {
   "cell_type": "code",
   "execution_count": 16,
   "metadata": {},
   "outputs": [
    {
     "data": {
      "text/plain": [
       "599"
      ]
     },
     "execution_count": 16,
     "metadata": {},
     "output_type": "execute_result"
    }
   ],
   "source": [
    "\n",
    "len(set(new_rxns))"
   ]
  },
  {
   "cell_type": "code",
   "execution_count": 20,
   "metadata": {},
   "outputs": [
    {
     "data": {
      "text/plain": [
       "599"
      ]
     },
     "execution_count": 20,
     "metadata": {},
     "output_type": "execute_result"
    }
   ],
   "source": [
    "len(set(new_rxns.keys()))"
   ]
  },
  {
   "cell_type": "code",
   "execution_count": 21,
   "metadata": {},
   "outputs": [
    {
     "name": "stdout",
     "output_type": "stream",
     "text": [
      "In the New-Only subset, 2 of 10 are likely gapfilled reactions\n",
      "In the Old-Only subset, 79 of 80 are likely gapfilled reactions\n"
     ]
    }
   ],
   "source": [
    "# Method for Counting Gapfills. Takes in set of reaction ids to get subset from, and a dict<str, reaction> where str is string id ('rxn_12345_c0') \n",
    "# and reaction is a dict defined by model['data']['modelreactions']. All ids in target set need to be in rxn_dict.\n",
    "def gapfilled_subset(target_set, rxn_dict):\n",
    "    gapfills = set()\n",
    "    for r in target_set:\n",
    "        is_gapfill = True\n",
    "        for p in rxn_dict[r]['modelReactionProteins']:\n",
    "            for s in p['modelReactionProteinSubunits']:\n",
    "                if len(s['feature_refs']) > 0:\n",
    "                    is_gapfill = False\n",
    "                    break\n",
    "        if is_gapfill:\n",
    "            gapfills.add(r)\n",
    "    return gapfills\n",
    "        \n",
    "print('In the New-Only subset, {0} of {1} are likely gapfilled reactions'.format(len(gapfilled_subset(new_only, new_rxns)), len(new_only)))\n",
    "print('In the Old-Only subset, {0} of {1} are likely gapfilled reactions'.format(len(gapfilled_subset(old_only, old_rxns)), len(old_only)))\n"
   ]
  },
  {
   "cell_type": "code",
   "execution_count": 22,
   "metadata": {},
   "outputs": [
    {
     "name": "stdout",
     "output_type": "stream",
     "text": [
      "In the New-Only subset, 2 of 10 are likely gapfilled reactions\n",
      "In the Old-Only subset, 79 of 80 are likely gapfilled reactions\n"
     ]
    }
   ],
   "source": [
    "# Method for Counting Gapfills. Takes in set of reaction ids to get subset from, and a dict<str, reaction> where str is string id ('rxn_12345_c0') \n",
    "# and reaction is a dict defined by model['data']['modelreactions']. All ids in target set need to be in rxn_dict.\n",
    "def gapfilled_subset(target_set, rxn_dict):\n",
    "    gapfills = set()\n",
    "    for r in target_set:\n",
    "        is_gapfill = True\n",
    "        for p in rxn_dict[r]['modelReactionProteins']:\n",
    "            for s in p['modelReactionProteinSubunits']:\n",
    "                if len(s['feature_refs']) > 0:\n",
    "                    is_gapfill = False\n",
    "                    break\n",
    "        if is_gapfill:\n",
    "            gapfills.add(r)\n",
    "    return gapfills\n",
    "        \n",
    "print('In the New-Only subset, {0} of {1} are likely gapfilled reactions'.format(len(gapfilled_subset(new_only, new_rxns)), len(new_only)))\n",
    "print('In the Old-Only subset, {0} of {1} are likely gapfilled reactions'.format(len(gapfilled_subset(old_only, old_rxns)), len(old_only)))\n"
   ]
  },
  {
   "cell_type": "code",
   "execution_count": 23,
   "metadata": {},
   "outputs": [
    {
     "ename": "AttributeError",
     "evalue": "'str' object has no attribute 'get_objects2'",
     "output_type": "error",
     "traceback": [
      "\u001b[0;31m---------------------------------------------------------------------------\u001b[0m",
      "\u001b[0;31mAttributeError\u001b[0m                            Traceback (most recent call last)",
      "\u001b[0;32m<ipython-input-23-bbe1bcbb8095>\u001b[0m in \u001b[0;36m<module>\u001b[0;34m\u001b[0m\n\u001b[1;32m     11\u001b[0m             \u001b[0mrxns\u001b[0m\u001b[0;34m.\u001b[0m\u001b[0madd\u001b[0m\u001b[0;34m(\u001b[0m\u001b[0mrxn_id\u001b[0m\u001b[0;34m)\u001b[0m\u001b[0;34m\u001b[0m\u001b[0m\n\u001b[1;32m     12\u001b[0m     \u001b[0;32mreturn\u001b[0m \u001b[0mdupes\u001b[0m\u001b[0;34m\u001b[0m\u001b[0m\n\u001b[0;32m---> 13\u001b[0;31m \u001b[0mdetect_duplicate_rxns\u001b[0m\u001b[0;34m(\u001b[0m\u001b[0;34m'maripaludis_to_stadtmanae_morph_9_17_19'\u001b[0m\u001b[0;34m)\u001b[0m\u001b[0;34m\u001b[0m\u001b[0m\n\u001b[0m",
      "\u001b[0;32m<ipython-input-23-bbe1bcbb8095>\u001b[0m in \u001b[0;36mdetect_duplicate_rxns\u001b[0;34m(model_name)\u001b[0m\n\u001b[1;32m      1\u001b[0m \u001b[0;31m# Detect duplicate reactions in a model\u001b[0m\u001b[0;34m\u001b[0m\u001b[0;34m\u001b[0m\u001b[0m\n\u001b[1;32m      2\u001b[0m \u001b[0;32mdef\u001b[0m \u001b[0mdetect_duplicate_rxns\u001b[0m\u001b[0;34m(\u001b[0m\u001b[0mmodel_name\u001b[0m\u001b[0;34m)\u001b[0m\u001b[0;34m:\u001b[0m\u001b[0;34m\u001b[0m\u001b[0m\n\u001b[0;32m----> 3\u001b[0;31m     \u001b[0mm\u001b[0m \u001b[0;34m=\u001b[0m \u001b[0mget_model_from_ws\u001b[0m\u001b[0;34m(\u001b[0m\u001b[0mmodel_name\u001b[0m\u001b[0;34m)\u001b[0m\u001b[0;34m\u001b[0m\u001b[0m\n\u001b[0m\u001b[1;32m      4\u001b[0m     \u001b[0mdupes\u001b[0m \u001b[0;34m=\u001b[0m \u001b[0mset\u001b[0m\u001b[0;34m(\u001b[0m\u001b[0;34m)\u001b[0m\u001b[0;34m\u001b[0m\u001b[0m\n\u001b[1;32m      5\u001b[0m     \u001b[0mrxns\u001b[0m \u001b[0;34m=\u001b[0m \u001b[0mset\u001b[0m\u001b[0;34m(\u001b[0m\u001b[0;34m)\u001b[0m\u001b[0;34m\u001b[0m\u001b[0m\n",
      "\u001b[0;32m<ipython-input-9-d5cbae816a03>\u001b[0m in \u001b[0;36mget_model_from_ws\u001b[0;34m(model_name, workspace_id)\u001b[0m\n\u001b[1;32m      1\u001b[0m \u001b[0;31m# Fetch new / old Morph Model\u001b[0m\u001b[0;34m\u001b[0m\u001b[0;34m\u001b[0m\u001b[0m\n\u001b[1;32m      2\u001b[0m \u001b[0;32mdef\u001b[0m \u001b[0mget_model_from_ws\u001b[0m\u001b[0;34m(\u001b[0m\u001b[0mmodel_name\u001b[0m\u001b[0;34m,\u001b[0m \u001b[0mworkspace_id\u001b[0m\u001b[0;34m=\u001b[0m\u001b[0mws_id\u001b[0m\u001b[0;34m)\u001b[0m\u001b[0;34m:\u001b[0m\u001b[0;34m\u001b[0m\u001b[0m\n\u001b[0;32m----> 3\u001b[0;31m     \u001b[0;32mreturn\u001b[0m \u001b[0mws\u001b[0m\u001b[0;34m.\u001b[0m\u001b[0mget_objects2\u001b[0m\u001b[0;34m(\u001b[0m\u001b[0;34m{\u001b[0m\u001b[0;34m'objects'\u001b[0m\u001b[0;34m:\u001b[0m \u001b[0;34m[\u001b[0m\u001b[0;34m{\u001b[0m\u001b[0;34m'wsid'\u001b[0m\u001b[0;34m:\u001b[0m \u001b[0mworkspace_id\u001b[0m\u001b[0;34m,\u001b[0m \u001b[0;34m'name'\u001b[0m\u001b[0;34m:\u001b[0m \u001b[0mmodel_name\u001b[0m\u001b[0;34m}\u001b[0m\u001b[0;34m]\u001b[0m\u001b[0;34m}\u001b[0m\u001b[0;34m)\u001b[0m\u001b[0;34m[\u001b[0m\u001b[0;34m'data'\u001b[0m\u001b[0;34m]\u001b[0m\u001b[0;34m[\u001b[0m\u001b[0;36m0\u001b[0m\u001b[0;34m]\u001b[0m\u001b[0;34m\u001b[0m\u001b[0m\n\u001b[0m\u001b[1;32m      4\u001b[0m \u001b[0;34m\u001b[0m\u001b[0m\n\u001b[1;32m      5\u001b[0m \u001b[0mnew_model\u001b[0m \u001b[0;34m=\u001b[0m \u001b[0mkbase\u001b[0m\u001b[0;34m.\u001b[0m\u001b[0mget_object\u001b[0m\u001b[0;34m(\u001b[0m\u001b[0;34m'maripaludis_to_stadtmanae_morph_9_17_19'\u001b[0m\u001b[0;34m,\u001b[0m \u001b[0mws\u001b[0m\u001b[0;34m)\u001b[0m\u001b[0;34m\u001b[0m\u001b[0m\n",
      "\u001b[0;31mAttributeError\u001b[0m: 'str' object has no attribute 'get_objects2'"
     ]
    }
   ],
   "source": [
    "# Detect duplicate reactions in a model\n",
    "def detect_duplicate_rxns(model_name):\n",
    "    m = get_model_from_ws(model_name)\n",
    "    dupes = set()\n",
    "    rxns = set()\n",
    "    for r in m['data']['modelreactions']:\n",
    "        rxn_id = r['id']\n",
    "        if rxn_id in rxns:\n",
    "            dupes.add(rxn_id)\n",
    "        else:\n",
    "            rxns.add(rxn_id)\n",
    "    return dupes\n",
    "detect_duplicate_rxns('maripaludis_to_stadtmanae_morph_9_17_19')"
   ]
  },
  {
   "cell_type": "code",
   "execution_count": 27,
   "metadata": {},
   "outputs": [
    {
     "name": "stdout",
     "output_type": "stream",
     "text": [
      "rxn05667_c0 -> Urea transport via facilitate diffusion c0\n",
      "rxn00062_c0 -> ATP phosphohydrolase protein-secreting c0\n",
      "rxn01208_c0 -> 2-Oxo-4-methyl-3-carboxypentanoate decarboxylation c0\n",
      "EX-cpd15302_c0 -> EX glycogenn-1 c0\n",
      "rxn10904_c0 -> Acetate transport\n",
      "rxn01117_c0 -> D-Arabinose-5-phosphate ketol-isomerase_c0\n",
      "rxn01360_c0 -> (S)-Dihydroorotate:oxygen oxidoreductase_c0\n",
      "rxn04385_c0 -> L-threonine-O-3-phosphate carboxy-lyase_c0\n",
      "rxn00148_c0 -> ATP:pyruvate O2-phosphotransferase_c0\n",
      "rxn02312_c0 -> S-Adenosyl-L-methionine:8-amino-7-oxononanoate aminotransferase_c0\n",
      "rxn00469_c0 -> N2-Acetyl-L-ornithine amidohydrolase_c0\n",
      "rxn00321_c0 -> L-Lysine 2,3-aminomutase_c0\n",
      "rxn05064_c0 -> carbamate hydro-lyase_c0\n",
      "rxn05527_c0 -> cytosine transport in via proton symport_c0\n",
      "rxn00283_c0 -> L-Alanine racemase_c0\n",
      "rxn00351_c0 -> gamma-L-Glutamyl-L-cysteine:glycine ligase (ADP-forming)_c0\n",
      "rxn05651_c0 -> sulfate transport in via proton symport_c0\n",
      "rxn10596_c0 -> (R)-(homo)3citrate dehydratase_c0\n",
      "rxn05197_c0 -> Uracil ion-coupled transport_c0\n",
      "rxn00711_c0 -> UMP:pyrophosphate phosphoribosyltransferase_c0\n",
      "rxn01664_c0 -> 2-Aminoadipate 6-semialdehyde_c0\n",
      "rxn02113_c0 -> 2-Acetolactate carboxy-lyase_c0\n",
      "rxn00274_c0 -> Succinyl-CoA:glycine C-succinyl-transferase(decarboxylating)_c0\n",
      "rxn05201_c0 -> Hypoxanthine ion-coupled transport_c0\n",
      "rxn02569_c0 -> ATP:selenide, water phosphotransferase_c0\n",
      "rxn10433_c0 -> alpha-ketoadipate:CoA ligase_c0\n",
      "rxn06696_c0 -> hydrogen:N5,N10-methenyltetraydromethanopterin oxidoreductase_c0\n",
      "rxn00558_c0 -> D-Glucose-6-phosphate ketol-isomerase_c0\n",
      "rxn10610_c0 -> threo-iso(homo)2citrate dehydrogenase_c0\n",
      "rxn02483_c0 -> 4-Carboxymuconolactone carboxy-lyase_c0\n",
      "rxn02666_c0 -> L-2-amino-3-oxobutanoate decarboxylation (spontaneous)_c0\n",
      "rxn06729_c0 -> (R)-3-Hydroxytetradecanoly-[acyl-carrier-protein]:UDP-N-acetyl-_c0\n",
      "rxn10178_c0 -> sodium proton antiporter (H:NA is 2)_c0\n",
      "rxn00763_c0 -> Glycerol:NAD+ oxidoreductase_c0\n",
      "rxn05116_c0 -> rxn05116_c0\n",
      "rxn05740_c0 -> cpd00155 phosphorylase_c0\n",
      "rxn10469_c0 -> cis-(homo)3aconitate hydrolase_c0\n",
      "rxn00543_c0 -> Ethanol:NAD+ oxidoreductase_c0\n",
      "rxn05165_c0 -> L-Proline-ABC transport_c0\n",
      "rxn11751_c0 -> L-seryl-tRNA(Sec) kinase_c0\n",
      "rxn05215_c0 -> Sodium-alaninie symporter_c0\n",
      "rxn05616_c0 -> magnesium transport in/out via permease (no H+)_c0\n",
      "rxn03397_c0 -> UDP-L-rhamnose:flavonol-3-O-D-glucoside L-rhamnosyltransferase_c0\n",
      "rxn02296_c0 -> 6-Carboxyhyxanoate:CoA ligase (AMP-forming)_c0\n",
      "rxn05313_c0 -> PIt8_c0\n",
      "rxn04456_c0 -> rxn04456_c0\n",
      "rxn02380_c0 -> beta-D-Glucose 6-phosphate ketol-isomerase_c0\n",
      "rxn00714_c0 -> P1,P4-Bis(5'-nucleosyl)-tetraphosphate nucleotidohydrolase_c0\n",
      "rxn09249_c0 -> Seryl-tRNA synthetase (selenocystein)_c0\n",
      "rxn10468_c0 -> cis-(homo)2aconitate hydrolase_c0\n",
      "rxn05735_c0 -> aldehyde dehydrogenase (aminoacetaldehyde, NAD)_c0\n",
      "rxn02288_c0 -> Uroporphyrinogen-III carboxy-lyase_c0\n",
      "rxn04043_c0 -> ADP:D-fructose-6-phosphate 1-phosphotransferase_c0\n",
      "rxn10474_c0 -> cobalt transport in/out via permease (no H+)_c0\n",
      "rxn00966_c0 -> chorismate pyruvate-lyase (4-hydroxybenzoate-forming)_c0\n",
      "rxn00717_c0 -> Cytosine aminohydrolase_c0\n",
      "rxn02297_c0 -> 6-Carboxyhexanoyl-CoA:L-alanine C-carboxyhexanoyltransferase_c0\n",
      "rxn10595_c0 -> (R)-(homo)2citrate dehydratase_c0\n",
      "rxn08180_c0 -> Biotin synthase_c0\n",
      "rxn13660_c0 -> D-Alanine-Sodium symporter_c0\n",
      "rxn00298_c0 -> UDP-N-acetyl-D-glucosamine:NAD+ 6-oxidoreductase_c0\n",
      "rxn04042_c0 -> ADP:D-glucose 6-phosphotransferase_c0\n",
      "rxn05181_c0 -> Betaine-ABC transport_c0\n",
      "rxn10435_c0 -> alpha-ketopimelate:CoA ligase_c0\n",
      "rxn02277_c0 -> 7,8-Diaminononanoate:carbon-dioxide cyclo-ligase_c0\n",
      "rxn03030_c0 -> Acetyl-CoA:L-2,3,4,5-tetrahydrodipicolinate N2-acetyltransferase_c0\n",
      "rxn11752_c0 -> O-phosphoseryl-tRNA(Sec) selenium transferase_c0\n",
      "rxn04783_c0 -> glycinamide ribonucleotide transformylase_c0\n",
      "rxn10612_c0 -> threo-isohomocitrate dehydrogenase_c0\n",
      "rxn10434_c0 -> alpha-ketoglutarate:CoA ligase_c0\n",
      "rxn01300_c0 -> ATP:L-homoserine O-phosphotransferase_c0\n",
      "rxn01025_c0 -> 5-Methylcytosine aminohydrolase_c0\n",
      "rxn10472_c0 -> cis-homoaconitate hydrolase_c0\n",
      "rxn01053_c0 -> (S)-lactaldehyde:NAD+ oxidoreductase_c0\n",
      "rxn01977_c0 -> alpha-D-Glucose 6-phosphate ketol-isomerase_c0\n",
      "rxn05559_c0 -> formate transport in via proton symport_c0\n",
      "rxn06096_c0 -> 1,4-alpha-D-Glucan:orthophosphate alpha-D-glucosyltransferase_c0\n",
      "rxn09952_c0 -> alpha-amylase_c0\n",
      "rxn09989_c0 -> Maltodextrin glucosidase (dextrin)_c0\n",
      "rxn09399_c0 -> 1,4-alpha-glucan branching enzyme_c0\n"
     ]
    }
   ],
   "source": [
    "\n",
    "# We should enumerate these to see if there are any interesting patterns metabolically\n",
    "for r in old_rxns:\n",
    "    if r in old_only:\n",
    "        print(r, '->', old_rxns[r]['name'])\n"
   ]
  },
  {
   "cell_type": "code",
   "execution_count": null,
   "metadata": {},
   "outputs": [],
   "source": []
  }
 ],
 "metadata": {
  "kernelspec": {
   "display_name": "Python 3",
   "language": "python",
   "name": "python3"
  },
  "language_info": {
   "codemirror_mode": {
    "name": "ipython",
    "version": 3
   },
   "file_extension": ".py",
   "mimetype": "text/x-python",
   "name": "python",
   "nbconvert_exporter": "python",
   "pygments_lexer": "ipython3",
   "version": "3.6.5"
  }
 },
 "nbformat": 4,
 "nbformat_minor": 2
}
